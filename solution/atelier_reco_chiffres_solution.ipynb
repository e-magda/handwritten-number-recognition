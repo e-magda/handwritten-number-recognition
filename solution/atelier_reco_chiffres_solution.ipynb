{
 "cells": [
  {
   "cell_type": "markdown",
   "metadata": {},
   "source": [
    "# Atelier ML - Reconnaissance de chiffres manuscrits"
   ]
  },
  {
   "cell_type": "markdown",
   "metadata": {},
   "source": [
    "Dans cet atelier, vous allez entraîner un modèle qui permet de reconnaitre les chiffres écrits à la main à partir du dataset MNIST. Ensuite, vous pourrez intégrer ce modèle dans une application qui permettra à l'utilisateur de \"dessiner\" un chiffre et d'afficher la prédiction.\n",
    "\n",
    "Etapes : \n",
    "*   Sélection d'un dataset restreint pour entraîner votre modèle\n",
    "*   Gestion d'un dataset contenant des images en format pixel\n",
    "*   Entrainement d'un modèle de Support Vector Machine (SVM)\n",
    "*   Création d'un Pipeline\n",
    "*   Sauvegarde d'un modèle avec Pickle\n",
    "*   Création d'une application Streamlit avec une fonctionnalité de dessin (canva)\n",
    "*   Prédictions directement dans l'application"
   ]
  },
  {
   "cell_type": "code",
   "execution_count": 1,
   "metadata": {},
   "outputs": [],
   "source": [
    "# IMPORTS\n",
    "import matplotlib.pyplot as plt\n",
    "import numpy as np \n",
    "import pandas as pd\n",
    "import seaborn as sns\n",
    "from PIL import Image"
   ]
  },
  {
   "cell_type": "markdown",
   "metadata": {},
   "source": [
    "Commencez par importer le dataset MNIST et comprendre son contenu.\n",
    "\n",
    "Vous en savoir plus sur cette base de données : http://yann.lecun.com/exdb/mnist/ "
   ]
  },
  {
   "cell_type": "code",
   "execution_count": 2,
   "metadata": {},
   "outputs": [
    {
     "name": "stdout",
     "output_type": "stream",
     "text": [
      "(60000, 785)\n"
     ]
    }
   ],
   "source": [
    "df = pd.read_csv('mnist.csv', sep=',')\n",
    "print(df.shape)"
   ]
  },
  {
   "cell_type": "code",
   "execution_count": 5,
   "metadata": {},
   "outputs": [
    {
     "data": {
      "text/html": [
       "<div>\n",
       "<style scoped>\n",
       "    .dataframe tbody tr th:only-of-type {\n",
       "        vertical-align: middle;\n",
       "    }\n",
       "\n",
       "    .dataframe tbody tr th {\n",
       "        vertical-align: top;\n",
       "    }\n",
       "\n",
       "    .dataframe thead th {\n",
       "        text-align: right;\n",
       "    }\n",
       "</style>\n",
       "<table border=\"1\" class=\"dataframe\">\n",
       "  <thead>\n",
       "    <tr style=\"text-align: right;\">\n",
       "      <th></th>\n",
       "      <th>label</th>\n",
       "      <th>1x1</th>\n",
       "      <th>1x2</th>\n",
       "      <th>1x3</th>\n",
       "      <th>1x4</th>\n",
       "      <th>1x5</th>\n",
       "      <th>1x6</th>\n",
       "      <th>1x7</th>\n",
       "      <th>1x8</th>\n",
       "      <th>1x9</th>\n",
       "      <th>...</th>\n",
       "      <th>28x19</th>\n",
       "      <th>28x20</th>\n",
       "      <th>28x21</th>\n",
       "      <th>28x22</th>\n",
       "      <th>28x23</th>\n",
       "      <th>28x24</th>\n",
       "      <th>28x25</th>\n",
       "      <th>28x26</th>\n",
       "      <th>28x27</th>\n",
       "      <th>28x28</th>\n",
       "    </tr>\n",
       "  </thead>\n",
       "  <tbody>\n",
       "    <tr>\n",
       "      <th>0</th>\n",
       "      <td>5</td>\n",
       "      <td>0</td>\n",
       "      <td>0</td>\n",
       "      <td>0</td>\n",
       "      <td>0</td>\n",
       "      <td>0</td>\n",
       "      <td>0</td>\n",
       "      <td>0</td>\n",
       "      <td>0</td>\n",
       "      <td>0</td>\n",
       "      <td>...</td>\n",
       "      <td>0</td>\n",
       "      <td>0</td>\n",
       "      <td>0</td>\n",
       "      <td>0</td>\n",
       "      <td>0</td>\n",
       "      <td>0</td>\n",
       "      <td>0</td>\n",
       "      <td>0</td>\n",
       "      <td>0</td>\n",
       "      <td>0</td>\n",
       "    </tr>\n",
       "    <tr>\n",
       "      <th>1</th>\n",
       "      <td>0</td>\n",
       "      <td>0</td>\n",
       "      <td>0</td>\n",
       "      <td>0</td>\n",
       "      <td>0</td>\n",
       "      <td>0</td>\n",
       "      <td>0</td>\n",
       "      <td>0</td>\n",
       "      <td>0</td>\n",
       "      <td>0</td>\n",
       "      <td>...</td>\n",
       "      <td>0</td>\n",
       "      <td>0</td>\n",
       "      <td>0</td>\n",
       "      <td>0</td>\n",
       "      <td>0</td>\n",
       "      <td>0</td>\n",
       "      <td>0</td>\n",
       "      <td>0</td>\n",
       "      <td>0</td>\n",
       "      <td>0</td>\n",
       "    </tr>\n",
       "    <tr>\n",
       "      <th>2</th>\n",
       "      <td>4</td>\n",
       "      <td>0</td>\n",
       "      <td>0</td>\n",
       "      <td>0</td>\n",
       "      <td>0</td>\n",
       "      <td>0</td>\n",
       "      <td>0</td>\n",
       "      <td>0</td>\n",
       "      <td>0</td>\n",
       "      <td>0</td>\n",
       "      <td>...</td>\n",
       "      <td>0</td>\n",
       "      <td>0</td>\n",
       "      <td>0</td>\n",
       "      <td>0</td>\n",
       "      <td>0</td>\n",
       "      <td>0</td>\n",
       "      <td>0</td>\n",
       "      <td>0</td>\n",
       "      <td>0</td>\n",
       "      <td>0</td>\n",
       "    </tr>\n",
       "    <tr>\n",
       "      <th>3</th>\n",
       "      <td>1</td>\n",
       "      <td>0</td>\n",
       "      <td>0</td>\n",
       "      <td>0</td>\n",
       "      <td>0</td>\n",
       "      <td>0</td>\n",
       "      <td>0</td>\n",
       "      <td>0</td>\n",
       "      <td>0</td>\n",
       "      <td>0</td>\n",
       "      <td>...</td>\n",
       "      <td>0</td>\n",
       "      <td>0</td>\n",
       "      <td>0</td>\n",
       "      <td>0</td>\n",
       "      <td>0</td>\n",
       "      <td>0</td>\n",
       "      <td>0</td>\n",
       "      <td>0</td>\n",
       "      <td>0</td>\n",
       "      <td>0</td>\n",
       "    </tr>\n",
       "    <tr>\n",
       "      <th>4</th>\n",
       "      <td>9</td>\n",
       "      <td>0</td>\n",
       "      <td>0</td>\n",
       "      <td>0</td>\n",
       "      <td>0</td>\n",
       "      <td>0</td>\n",
       "      <td>0</td>\n",
       "      <td>0</td>\n",
       "      <td>0</td>\n",
       "      <td>0</td>\n",
       "      <td>...</td>\n",
       "      <td>0</td>\n",
       "      <td>0</td>\n",
       "      <td>0</td>\n",
       "      <td>0</td>\n",
       "      <td>0</td>\n",
       "      <td>0</td>\n",
       "      <td>0</td>\n",
       "      <td>0</td>\n",
       "      <td>0</td>\n",
       "      <td>0</td>\n",
       "    </tr>\n",
       "  </tbody>\n",
       "</table>\n",
       "<p>5 rows × 785 columns</p>\n",
       "</div>"
      ],
      "text/plain": [
       "   label  1x1  1x2  1x3  1x4  1x5  1x6  1x7  1x8  1x9  ...  28x19  28x20  \\\n",
       "0      5    0    0    0    0    0    0    0    0    0  ...      0      0   \n",
       "1      0    0    0    0    0    0    0    0    0    0  ...      0      0   \n",
       "2      4    0    0    0    0    0    0    0    0    0  ...      0      0   \n",
       "3      1    0    0    0    0    0    0    0    0    0  ...      0      0   \n",
       "4      9    0    0    0    0    0    0    0    0    0  ...      0      0   \n",
       "\n",
       "   28x21  28x22  28x23  28x24  28x25  28x26  28x27  28x28  \n",
       "0      0      0      0      0      0      0      0      0  \n",
       "1      0      0      0      0      0      0      0      0  \n",
       "2      0      0      0      0      0      0      0      0  \n",
       "3      0      0      0      0      0      0      0      0  \n",
       "4      0      0      0      0      0      0      0      0  \n",
       "\n",
       "[5 rows x 785 columns]"
      ]
     },
     "execution_count": 5,
     "metadata": {},
     "output_type": "execute_result"
    }
   ],
   "source": [
    "df.head()"
   ]
  },
  {
   "cell_type": "markdown",
   "metadata": {},
   "source": [
    "Sous quelle forme se présentent vos données ? Que représentent-elles ?"
   ]
  },
  {
   "cell_type": "code",
   "execution_count": null,
   "metadata": {},
   "outputs": [],
   "source": [
    "# 785 colonnes dont 1 colonne avec le label = chiffre représenté (0 à 9) et 784 colonnes avec les valeurs de pixels de 0 à 255 (matrice de 28x28)."
   ]
  },
  {
   "cell_type": "markdown",
   "metadata": {},
   "source": [
    "Pour en savoir plus sur les valeurs du dataframe, <a href='https://www.whydomath.org/node/wavlets/imagebasics.html'> petite explication sur l'échelle des couleurs</a>.\n",
    "\n",
    "Et en exécutant le code ci-dessous, vous y verrez déjà un peu plus clair 😋 "
   ]
  },
  {
   "cell_type": "code",
   "execution_count": 4,
   "metadata": {},
   "outputs": [
    {
     "data": {
      "image/png": "[encoded data removed]",
      "text/plain": [
       "<Figure size 432x288 with 1 Axes>"
      ]
     },
     "metadata": {
      "needs_background": "light"
     },
     "output_type": "display_data"
    },
    {
     "data": {
      "image/png": "[encoded data removed]",
      "text/plain": [
       "<Figure size 432x288 with 1 Axes>"
      ]
     },
     "metadata": {
      "needs_background": "light"
     },
     "output_type": "display_data"
    },
    {
     "data": {
      "image/png": "[encoded data removed]",
      "text/plain": [
       "<Figure size 432x288 with 1 Axes>"
      ]
     },
     "metadata": {
      "needs_background": "light"
     },
     "output_type": "display_data"
    },
    {
     "data": {
      "image/png": "[encoded data removed]",
      "text/plain": [
       "<Figure size 432x288 with 1 Axes>"
      ]
     },
     "metadata": {
      "needs_background": "light"
     },
     "output_type": "display_data"
    }
   ],
   "source": [
    "for i in (np.random.randint(0,270,4)):\n",
    "    img_28_28 = np.array(df.iloc[i, 1:]).reshape(28,28)\n",
    "    plt.title('label: {0}'. format(df.iloc[i, 0]))\n",
    "    plt.imshow(img_28_28, interpolation='antialiased', cmap='gray')\n",
    "    plt.show()"
   ]
  },
  {
   "cell_type": "markdown",
   "metadata": {},
   "source": [
    "Ci-dessous une 2ème manière de visualiser le contenu d'une ligne de notre dataframe. Qu'obtenez-vous ?"
   ]
  },
  {
   "cell_type": "code",
   "execution_count": 5,
   "metadata": {},
   "outputs": [
    {
     "name": "stdout",
     "output_type": "stream",
     "text": [
      "  0   0   0   0   0   0   0   0   0   0   0   0   0   0   0   0   0   0   0   0   0   0   0   0   0   0   0   0\n",
      "  0   0   0   0   0   0   0   0   0   0   0   0   0   0   0   0   0   0   0   0   0   0   0   0   0   0   0   0\n",
      "  0   0   0   0   0   0   0   0   0   0   0   0   0   0   0   0   0   0   0   0   0   0   0   0   0   0   0   0\n",
      "  0   0   0   0   0   0   0   0   0   0   0   0   0   0   0   0   0   0   0   0   0   0   0   0   0   0   0   0\n",
      "  0   0   0   0   0   0   0   0   0   0   0   0   0   0   0   0   0   0   0   0   0   0   0   0   0   0   0   0\n",
      "  0   0   0   0   0   0   0   0   0   0   0   0   0   0   0   0   0   0   0  11 203 229  32   0   0   0   0   0\n",
      "  0   0   0   0   0   0   0   0   0   0   0   0   0   0   0  26  47  47  30  95 254 215  13   0   0   0   0   0\n",
      "  0   0   0   0   0   0   0   0   0   0   0  45 154 185 185 223 253 253 133 175 255 188  19   0   0   0   0   0\n",
      "  0   0   0   0   0   0   0   0   0   0   0 110 253 253 253 246 161 228 253 253 254  92   0   0   0   0   0   0\n",
      "  0   0   0   0   0   0   0   0   0   0 128 245 253 158 137  21   0  48 233 253 233   8   0   0   0   0   0   0\n",
      "  0   0   0   0   0   0   0   0   0   0 139 254 223  25   0   0  36 170 254 244 106   0   0   0   0   0   0   0\n",
      "  0   0   0   0   0   0   0   0   0   0  55 212 253 161  11  26 178 253 236 113   0   0   0   0   0   0   0   0\n",
      "  0   0   0   0   0   0   0   0   0   0   7 155 253 228  80 223 253 253 109   0   0   0   0   0   0   0   0   0\n",
      "  0   0   0   0   0   0   0   0   0   0   0 141 253 253 253 254 253 154  29   0   0   0   0   0   0   0   0   0\n",
      "  0   0   0   0   0   0   0   0   0   0   0 110 253 253 253 254 179  38   0   0   0   0   0   0   0   0   0   0\n",
      "  0   0   0   0   0   0   0   0   0   0   3 171 254 254 254 179   0   0   0   0   0   0   0   0   0   0   0   0\n",
      "  0   0   0   0   0   0   0   0   0   0 171 253 253 253 253 178   0   0   0   0   0   0   0   0   0   0   0   0\n",
      "  0   0   0   0   0   0   0   0  26 123 254 253 203 156 253 200   0   0   0   0   0   0   0   0   0   0   0   0\n",
      "  0   0   0   0   0   0   0   0  93 253 254 121  13  93 253 158   0   0   0   0   0   0   0   0   0   0   0   0\n",
      "  0   0   0   0   0   0   0  64 239 253  76   8  32 219 253 126   0   0   0   0   0   0   0   0   0   0   0   0\n",
      "  0   0   0   0   0   0   0 133 254 191   0   5 108 234 254 106   0   0   0   0   0   0   0   0   0   0   0   0\n",
      "  0   0   0   0   0   0   0 132 253 190   5  85 253 236 154   0   0   0   0   0   0   0   0   0   0   0   0   0\n",
      "  0   0   0   0   0   0   0 153 253 169 192 253 253  77   0   0   0   0   0   0   0   0   0   0   0   0   0   0\n",
      "  0   0   0   0   0   0   0 112 253 253 254 236 129   9   0   0   0   0   0   0   0   0   0   0   0   0   0   0\n",
      "  0   0   0   0   0   0   0  17 118 243 191 113   0   0   0   0   0   0   0   0   0   0   0   0   0   0   0   0\n",
      "  0   0   0   0   0   0   0   0   0   0   0   0   0   0   0   0   0   0   0   0   0   0   0   0   0   0   0   0\n",
      "  0   0   0   0   0   0   0   0   0   0   0   0   0   0   0   0   0   0   0   0   0   0   0   0   0   0   0   0\n",
      "  0   0   0   0   0   0   0   0   0   0   0   0   0   0   0   0   0   0   0   0   0   0   0   0   0   0   0   0\n"
     ]
    }
   ],
   "source": [
    "for row in img_28_28:\n",
    "    print(' '.join('{:3}'.format(value) for value in row))"
   ]
  },
  {
   "cell_type": "markdown",
   "metadata": {},
   "source": [
    "Le site du MNIST donne plus d'informations sur le traitement mené sur les images d'origine pour qu'elles aient des formats comparables :\n",
    "\n",
    "> The original black and white (bilevel) images from NIST were size normalized to fit in a 20x20 pixel box while preserving their aspect ratio. The resulting images contain grey levels as a result of the anti-aliasing technique used by the normalization algorithm. the images were centered in a 28x28 image by computing the center of mass of the pixels, and translating the image so as to position this point at the center of the 28x28 field.\n",
    "\n",
    "La description est technique mais permet de comprendre que les images qu'on va dessiner nous-mêmes vont également devoir passer par ce même traitement pour être comparables et donc bien prédites par notre modèle."
   ]
  },
  {
   "cell_type": "markdown",
   "metadata": {},
   "source": [
    "## Sélection des données"
   ]
  },
  {
   "cell_type": "markdown",
   "metadata": {},
   "source": [
    "On a actuellement un dataframe avec 60 000 lignes. Comme vous allez entraîner des modèles, il est utile de réduire la quantité de données qu'on va utiliser ici. Cela risque de réduire la qualité de prédiction mais aussi le temps d'entraînement de nos modèles. Créez un dataframe plus léger en ne gardant que 10 000 lignes du dataframe initial.\n",
    "\n",
    "Attention, pensez bien à avoir une représentation homogène de tous les labels que vous allez prédire (soit les chiffres de 0 à 9)."
   ]
  },
  {
   "cell_type": "code",
   "execution_count": 6,
   "metadata": {},
   "outputs": [
    {
     "data": {
      "text/html": [
       "<div>\n",
       "<style scoped>\n",
       "    .dataframe tbody tr th:only-of-type {\n",
       "        vertical-align: middle;\n",
       "    }\n",
       "\n",
       "    .dataframe tbody tr th {\n",
       "        vertical-align: top;\n",
       "    }\n",
       "\n",
       "    .dataframe thead th {\n",
       "        text-align: right;\n",
       "    }\n",
       "</style>\n",
       "<table border=\"1\" class=\"dataframe\">\n",
       "  <thead>\n",
       "    <tr style=\"text-align: right;\">\n",
       "      <th></th>\n",
       "      <th>label</th>\n",
       "      <th>1x1</th>\n",
       "      <th>1x2</th>\n",
       "      <th>1x3</th>\n",
       "      <th>1x4</th>\n",
       "      <th>1x5</th>\n",
       "      <th>1x6</th>\n",
       "      <th>1x7</th>\n",
       "      <th>1x8</th>\n",
       "      <th>1x9</th>\n",
       "      <th>...</th>\n",
       "      <th>28x19</th>\n",
       "      <th>28x20</th>\n",
       "      <th>28x21</th>\n",
       "      <th>28x22</th>\n",
       "      <th>28x23</th>\n",
       "      <th>28x24</th>\n",
       "      <th>28x25</th>\n",
       "      <th>28x26</th>\n",
       "      <th>28x27</th>\n",
       "      <th>28x28</th>\n",
       "    </tr>\n",
       "  </thead>\n",
       "  <tbody>\n",
       "    <tr>\n",
       "      <th>1</th>\n",
       "      <td>0</td>\n",
       "      <td>0</td>\n",
       "      <td>0</td>\n",
       "      <td>0</td>\n",
       "      <td>0</td>\n",
       "      <td>0</td>\n",
       "      <td>0</td>\n",
       "      <td>0</td>\n",
       "      <td>0</td>\n",
       "      <td>0</td>\n",
       "      <td>...</td>\n",
       "      <td>0</td>\n",
       "      <td>0</td>\n",
       "      <td>0</td>\n",
       "      <td>0</td>\n",
       "      <td>0</td>\n",
       "      <td>0</td>\n",
       "      <td>0</td>\n",
       "      <td>0</td>\n",
       "      <td>0</td>\n",
       "      <td>0</td>\n",
       "    </tr>\n",
       "    <tr>\n",
       "      <th>21</th>\n",
       "      <td>0</td>\n",
       "      <td>0</td>\n",
       "      <td>0</td>\n",
       "      <td>0</td>\n",
       "      <td>0</td>\n",
       "      <td>0</td>\n",
       "      <td>0</td>\n",
       "      <td>0</td>\n",
       "      <td>0</td>\n",
       "      <td>0</td>\n",
       "      <td>...</td>\n",
       "      <td>0</td>\n",
       "      <td>0</td>\n",
       "      <td>0</td>\n",
       "      <td>0</td>\n",
       "      <td>0</td>\n",
       "      <td>0</td>\n",
       "      <td>0</td>\n",
       "      <td>0</td>\n",
       "      <td>0</td>\n",
       "      <td>0</td>\n",
       "    </tr>\n",
       "    <tr>\n",
       "      <th>34</th>\n",
       "      <td>0</td>\n",
       "      <td>0</td>\n",
       "      <td>0</td>\n",
       "      <td>0</td>\n",
       "      <td>0</td>\n",
       "      <td>0</td>\n",
       "      <td>0</td>\n",
       "      <td>0</td>\n",
       "      <td>0</td>\n",
       "      <td>0</td>\n",
       "      <td>...</td>\n",
       "      <td>0</td>\n",
       "      <td>0</td>\n",
       "      <td>0</td>\n",
       "      <td>0</td>\n",
       "      <td>0</td>\n",
       "      <td>0</td>\n",
       "      <td>0</td>\n",
       "      <td>0</td>\n",
       "      <td>0</td>\n",
       "      <td>0</td>\n",
       "    </tr>\n",
       "    <tr>\n",
       "      <th>37</th>\n",
       "      <td>0</td>\n",
       "      <td>0</td>\n",
       "      <td>0</td>\n",
       "      <td>0</td>\n",
       "      <td>0</td>\n",
       "      <td>0</td>\n",
       "      <td>0</td>\n",
       "      <td>0</td>\n",
       "      <td>0</td>\n",
       "      <td>0</td>\n",
       "      <td>...</td>\n",
       "      <td>0</td>\n",
       "      <td>0</td>\n",
       "      <td>0</td>\n",
       "      <td>0</td>\n",
       "      <td>0</td>\n",
       "      <td>0</td>\n",
       "      <td>0</td>\n",
       "      <td>0</td>\n",
       "      <td>0</td>\n",
       "      <td>0</td>\n",
       "    </tr>\n",
       "    <tr>\n",
       "      <th>51</th>\n",
       "      <td>0</td>\n",
       "      <td>0</td>\n",
       "      <td>0</td>\n",
       "      <td>0</td>\n",
       "      <td>0</td>\n",
       "      <td>0</td>\n",
       "      <td>0</td>\n",
       "      <td>0</td>\n",
       "      <td>0</td>\n",
       "      <td>0</td>\n",
       "      <td>...</td>\n",
       "      <td>0</td>\n",
       "      <td>0</td>\n",
       "      <td>0</td>\n",
       "      <td>0</td>\n",
       "      <td>0</td>\n",
       "      <td>0</td>\n",
       "      <td>0</td>\n",
       "      <td>0</td>\n",
       "      <td>0</td>\n",
       "      <td>0</td>\n",
       "    </tr>\n",
       "    <tr>\n",
       "      <th>...</th>\n",
       "      <td>...</td>\n",
       "      <td>...</td>\n",
       "      <td>...</td>\n",
       "      <td>...</td>\n",
       "      <td>...</td>\n",
       "      <td>...</td>\n",
       "      <td>...</td>\n",
       "      <td>...</td>\n",
       "      <td>...</td>\n",
       "      <td>...</td>\n",
       "      <td>...</td>\n",
       "      <td>...</td>\n",
       "      <td>...</td>\n",
       "      <td>...</td>\n",
       "      <td>...</td>\n",
       "      <td>...</td>\n",
       "      <td>...</td>\n",
       "      <td>...</td>\n",
       "      <td>...</td>\n",
       "      <td>...</td>\n",
       "      <td>...</td>\n",
       "    </tr>\n",
       "    <tr>\n",
       "      <th>10142</th>\n",
       "      <td>9</td>\n",
       "      <td>0</td>\n",
       "      <td>0</td>\n",
       "      <td>0</td>\n",
       "      <td>0</td>\n",
       "      <td>0</td>\n",
       "      <td>0</td>\n",
       "      <td>0</td>\n",
       "      <td>0</td>\n",
       "      <td>0</td>\n",
       "      <td>...</td>\n",
       "      <td>0</td>\n",
       "      <td>0</td>\n",
       "      <td>0</td>\n",
       "      <td>0</td>\n",
       "      <td>0</td>\n",
       "      <td>0</td>\n",
       "      <td>0</td>\n",
       "      <td>0</td>\n",
       "      <td>0</td>\n",
       "      <td>0</td>\n",
       "    </tr>\n",
       "    <tr>\n",
       "      <th>10143</th>\n",
       "      <td>9</td>\n",
       "      <td>0</td>\n",
       "      <td>0</td>\n",
       "      <td>0</td>\n",
       "      <td>0</td>\n",
       "      <td>0</td>\n",
       "      <td>0</td>\n",
       "      <td>0</td>\n",
       "      <td>0</td>\n",
       "      <td>0</td>\n",
       "      <td>...</td>\n",
       "      <td>0</td>\n",
       "      <td>0</td>\n",
       "      <td>0</td>\n",
       "      <td>0</td>\n",
       "      <td>0</td>\n",
       "      <td>0</td>\n",
       "      <td>0</td>\n",
       "      <td>0</td>\n",
       "      <td>0</td>\n",
       "      <td>0</td>\n",
       "    </tr>\n",
       "    <tr>\n",
       "      <th>10165</th>\n",
       "      <td>9</td>\n",
       "      <td>0</td>\n",
       "      <td>0</td>\n",
       "      <td>0</td>\n",
       "      <td>0</td>\n",
       "      <td>0</td>\n",
       "      <td>0</td>\n",
       "      <td>0</td>\n",
       "      <td>0</td>\n",
       "      <td>0</td>\n",
       "      <td>...</td>\n",
       "      <td>0</td>\n",
       "      <td>0</td>\n",
       "      <td>0</td>\n",
       "      <td>0</td>\n",
       "      <td>0</td>\n",
       "      <td>0</td>\n",
       "      <td>0</td>\n",
       "      <td>0</td>\n",
       "      <td>0</td>\n",
       "      <td>0</td>\n",
       "    </tr>\n",
       "    <tr>\n",
       "      <th>10166</th>\n",
       "      <td>9</td>\n",
       "      <td>0</td>\n",
       "      <td>0</td>\n",
       "      <td>0</td>\n",
       "      <td>0</td>\n",
       "      <td>0</td>\n",
       "      <td>0</td>\n",
       "      <td>0</td>\n",
       "      <td>0</td>\n",
       "      <td>0</td>\n",
       "      <td>...</td>\n",
       "      <td>0</td>\n",
       "      <td>0</td>\n",
       "      <td>0</td>\n",
       "      <td>0</td>\n",
       "      <td>0</td>\n",
       "      <td>0</td>\n",
       "      <td>0</td>\n",
       "      <td>0</td>\n",
       "      <td>0</td>\n",
       "      <td>0</td>\n",
       "    </tr>\n",
       "    <tr>\n",
       "      <th>10183</th>\n",
       "      <td>9</td>\n",
       "      <td>0</td>\n",
       "      <td>0</td>\n",
       "      <td>0</td>\n",
       "      <td>0</td>\n",
       "      <td>0</td>\n",
       "      <td>0</td>\n",
       "      <td>0</td>\n",
       "      <td>0</td>\n",
       "      <td>0</td>\n",
       "      <td>...</td>\n",
       "      <td>0</td>\n",
       "      <td>0</td>\n",
       "      <td>0</td>\n",
       "      <td>0</td>\n",
       "      <td>0</td>\n",
       "      <td>0</td>\n",
       "      <td>0</td>\n",
       "      <td>0</td>\n",
       "      <td>0</td>\n",
       "      <td>0</td>\n",
       "    </tr>\n",
       "  </tbody>\n",
       "</table>\n",
       "<p>10000 rows × 785 columns</p>\n",
       "</div>"
      ],
      "text/plain": [
       "       label  1x1  1x2  1x3  1x4  1x5  1x6  1x7  1x8  1x9  ...  28x19  28x20  \\\n",
       "1          0    0    0    0    0    0    0    0    0    0  ...      0      0   \n",
       "21         0    0    0    0    0    0    0    0    0    0  ...      0      0   \n",
       "34         0    0    0    0    0    0    0    0    0    0  ...      0      0   \n",
       "37         0    0    0    0    0    0    0    0    0    0  ...      0      0   \n",
       "51         0    0    0    0    0    0    0    0    0    0  ...      0      0   \n",
       "...      ...  ...  ...  ...  ...  ...  ...  ...  ...  ...  ...    ...    ...   \n",
       "10142      9    0    0    0    0    0    0    0    0    0  ...      0      0   \n",
       "10143      9    0    0    0    0    0    0    0    0    0  ...      0      0   \n",
       "10165      9    0    0    0    0    0    0    0    0    0  ...      0      0   \n",
       "10166      9    0    0    0    0    0    0    0    0    0  ...      0      0   \n",
       "10183      9    0    0    0    0    0    0    0    0    0  ...      0      0   \n",
       "\n",
       "       28x21  28x22  28x23  28x24  28x25  28x26  28x27  28x28  \n",
       "1          0      0      0      0      0      0      0      0  \n",
       "21         0      0      0      0      0      0      0      0  \n",
       "34         0      0      0      0      0      0      0      0  \n",
       "37         0      0      0      0      0      0      0      0  \n",
       "51         0      0      0      0      0      0      0      0  \n",
       "...      ...    ...    ...    ...    ...    ...    ...    ...  \n",
       "10142      0      0      0      0      0      0      0      0  \n",
       "10143      0      0      0      0      0      0      0      0  \n",
       "10165      0      0      0      0      0      0      0      0  \n",
       "10166      0      0      0      0      0      0      0      0  \n",
       "10183      0      0      0      0      0      0      0      0  \n",
       "\n",
       "[10000 rows x 785 columns]"
      ]
     },
     "execution_count": 6,
     "metadata": {},
     "output_type": "execute_result"
    }
   ],
   "source": [
    "df_sample = pd.DataFrame()\n",
    "\n",
    "for i in range(10):\n",
    "    df_digit = df.loc[df['label'] == i].head(1000)\n",
    "    df_sample = pd.concat([df_sample, df_digit], axis=0)\n",
    "\n",
    "df_sample"
   ]
  },
  {
   "cell_type": "code",
   "execution_count": 15,
   "metadata": {},
   "outputs": [
    {
     "name": "stderr",
     "output_type": "stream",
     "text": [
      "/Users/emilie/Desktop/projects/ATELIERS/Atelier Number Recognition/venv/lib/python3.10/site-packages/seaborn/_decorators.py:36: FutureWarning: Pass the following variable as a keyword arg: x. From version 0.12, the only valid positional argument will be `data`, and passing other arguments without an explicit keyword will result in an error or misinterpretation.\n",
      "  warnings.warn(\n"
     ]
    },
    {
     "data": {
      "image/png": "[encoded data removed]",
      "text/plain": [
       "<Figure size 432x288 with 1 Axes>"
      ]
     },
     "metadata": {
      "needs_background": "light"
     },
     "output_type": "display_data"
    }
   ],
   "source": [
    "sns.countplot(df_sample['label'])\n",
    "plt.show() # Comme souhaité, on a bien 1000 lignes pour chaque chiffre"
   ]
  },
  {
   "cell_type": "markdown",
   "metadata": {},
   "source": [
    "## Machine Learning"
   ]
  },
  {
   "cell_type": "markdown",
   "metadata": {},
   "source": [
    "Maintenant, c'est le moment de passer aux choses sérieuses ! On va préparer les données pour le Machine Learning. \n",
    "\n",
    "Après avoir défini vos variables explicatives et la variable cible, divisez vos données en jeux d'entraînement et de test."
   ]
  },
  {
   "cell_type": "code",
   "execution_count": 7,
   "metadata": {},
   "outputs": [],
   "source": [
    "from sklearn.model_selection import train_test_split\n",
    "\n",
    "X = df_sample.iloc[:, 1:]\n",
    "y = df_sample['label']\n",
    "\n",
    "X_train, X_test, y_train, y_test = train_test_split(X, y, random_state=42, stratify=y)"
   ]
  },
  {
   "cell_type": "markdown",
   "metadata": {},
   "source": [
    "Vérifiez la distribution des labels dans vos deux jeux (par ex. avec un <a href=\"https://seaborn.pydata.org/generated/seaborn.countplot.html\">counplot</a>).\n",
    "\n",
    "Les deux jeux ont-ils des distributions de classe similaires ? Sinon, avez-vous pensé à inclure un paramètre dans le train_test_split qui peut y remédier ? "
   ]
  },
  {
   "cell_type": "code",
   "execution_count": 8,
   "metadata": {},
   "outputs": [
    {
     "name": "stderr",
     "output_type": "stream",
     "text": [
      "/Users/emilie/Desktop/projects/ATELIERS/Atelier Number Recognition/venv/lib/python3.10/site-packages/seaborn/_decorators.py:36: FutureWarning: Pass the following variable as a keyword arg: x. From version 0.12, the only valid positional argument will be `data`, and passing other arguments without an explicit keyword will result in an error or misinterpretation.\n",
      "  warnings.warn(\n"
     ]
    },
    {
     "data": {
      "image/png": "[encoded data removed]",
      "text/plain": [
       "<Figure size 432x288 with 1 Axes>"
      ]
     },
     "metadata": {
      "needs_background": "light"
     },
     "output_type": "display_data"
    }
   ],
   "source": [
    "# Stratify s'applique bien, on a le même nombre de lignes par label/chiffre dans les deux jeux\n",
    "sns.countplot(y_train)\n",
    "plt.show()"
   ]
  },
  {
   "cell_type": "markdown",
   "metadata": {},
   "source": [
    "#### Feature Scaling"
   ]
  },
  {
   "cell_type": "markdown",
   "metadata": {},
   "source": [
    "Vous pouvez aussi standardiser vos données."
   ]
  },
  {
   "cell_type": "code",
   "execution_count": 9,
   "metadata": {},
   "outputs": [],
   "source": [
    "# Standardisation\n",
    "from sklearn.preprocessing import StandardScaler\n",
    "\n",
    "scaler = StandardScaler()\n",
    "X_train_scaled = scaler.fit_transform(X_train)\n",
    "X_test_scaled = scaler.transform(X_test)"
   ]
  },
  {
   "cell_type": "code",
   "execution_count": 10,
   "metadata": {},
   "outputs": [],
   "source": [
    "# Normalisation\n",
    "from sklearn.preprocessing import MinMaxScaler\n",
    "\n",
    "minmax_scaler = MinMaxScaler()\n",
    "X_train_mmscaled = minmax_scaler.fit_transform(X_train)\n",
    "X_test_mmscaled = minmax_scaler.transform(X_test)"
   ]
  },
  {
   "cell_type": "markdown",
   "metadata": {},
   "source": [
    "#### PCA"
   ]
  },
  {
   "cell_type": "markdown",
   "metadata": {},
   "source": [
    "Pour améliorer nos performances et réduire le bruit dans nos données, on va réduire le nombre de variables utilisées pour notre ML en faisant une PCA. Faites plusieurs tests pour trouver un nombre de composants qui permet de garder une variance expliquée importante avec un bon score de précision tout en réduisant le temps d'entraînement."
   ]
  },
  {
   "cell_type": "code",
   "execution_count": 11,
   "metadata": {},
   "outputs": [
    {
     "name": "stdout",
     "output_type": "stream",
     "text": [
      "[9.92936496e-02 7.07696480e-02 6.13722355e-02 5.47980393e-02\n",
      " 4.80033040e-02 4.35762755e-02 3.28795320e-02 2.95782695e-02\n",
      " 2.78276912e-02 2.33047835e-02 2.07748708e-02 2.04420132e-02\n",
      " 1.72158417e-02 1.68881624e-02 1.62865135e-02 1.53632598e-02\n",
      " 1.29908314e-02 1.27061897e-02 1.19874450e-02 1.14965088e-02\n",
      " 1.05581559e-02 1.02111903e-02 9.59473522e-03 9.44274096e-03\n",
      " 8.76175351e-03 8.24666545e-03 7.97672298e-03 7.80483870e-03\n",
      " 7.20926106e-03 6.88048168e-03 6.57692685e-03 6.40872821e-03\n",
      " 6.06378996e-03 5.89225299e-03 5.68707203e-03 5.32941139e-03\n",
      " 5.10196389e-03 4.86306346e-03 4.81660539e-03 4.72430454e-03\n",
      " 4.54020432e-03 4.20308654e-03 4.15719040e-03 4.07336269e-03\n",
      " 3.78319566e-03 3.61275365e-03 3.54014498e-03 3.47080496e-03\n",
      " 3.29861021e-03 3.25956844e-03 3.20461259e-03 3.15826001e-03\n",
      " 3.01661172e-03 2.89853025e-03 2.82110529e-03 2.73953898e-03\n",
      " 2.67345170e-03 2.56724769e-03 2.49436866e-03 2.47683511e-03\n",
      " 2.41130722e-03 2.37070113e-03 2.24961275e-03 2.20140365e-03\n",
      " 2.11476856e-03 2.06365724e-03 2.02066342e-03 1.96218430e-03\n",
      " 1.92081425e-03 1.89353596e-03 1.83605274e-03 1.75824664e-03\n",
      " 1.72954059e-03 1.69552423e-03 1.67309784e-03 1.60519863e-03\n",
      " 1.57950222e-03 1.54282775e-03 1.45389071e-03 1.42593073e-03\n",
      " 1.41310130e-03 1.39263615e-03 1.37007973e-03 1.33200864e-03\n",
      " 1.31780905e-03 1.30335963e-03 1.26476141e-03 1.23484214e-03\n",
      " 1.21220246e-03 1.20377241e-03 1.17875642e-03 1.15207777e-03\n",
      " 1.10432062e-03 1.09293877e-03 1.06397224e-03 1.05507821e-03\n",
      " 1.04756894e-03 1.01859691e-03 9.88935871e-04 9.69713497e-04\n",
      " 9.51592561e-04 9.39946703e-04 9.21102705e-04 9.05289989e-04\n",
      " 8.94428808e-04 8.85422829e-04 8.76696636e-04 8.56917507e-04\n",
      " 8.34195910e-04 8.17341788e-04 8.09412512e-04 7.89227909e-04\n",
      " 7.80023924e-04 7.61532785e-04 7.49827187e-04 7.45988874e-04\n",
      " 7.29490291e-04 7.17773811e-04 7.03638262e-04 6.91033982e-04\n",
      " 6.86775829e-04 6.80603362e-04 6.77716873e-04 6.63701059e-04\n",
      " 6.47395774e-04 6.39300275e-04 6.29530617e-04 6.20637054e-04\n",
      " 6.11916240e-04 6.03356890e-04 5.98990786e-04 5.82833217e-04\n",
      " 5.79073662e-04 5.72052962e-04 5.70166521e-04 5.63814245e-04\n",
      " 5.51071897e-04 5.45603668e-04 5.37560552e-04 5.23923346e-04\n",
      " 5.20992321e-04 5.11525220e-04 5.07666885e-04 4.98004806e-04\n",
      " 4.85450584e-04 4.84339751e-04 4.78441356e-04 4.68729736e-04\n",
      " 4.65997589e-04 4.59400937e-04 4.54916799e-04 4.48979359e-04\n",
      " 4.46389759e-04 4.45572247e-04 4.37452389e-04 4.28135986e-04\n",
      " 4.28033443e-04 4.17814214e-04 4.15668485e-04 4.06378195e-04\n",
      " 4.04413127e-04 4.01686870e-04 3.96913258e-04 3.94163069e-04\n",
      " 3.86942942e-04 3.80692378e-04 3.79493002e-04 3.76530857e-04\n",
      " 3.73429704e-04 3.66211253e-04 3.62154758e-04 3.57194609e-04\n",
      " 3.56583679e-04 3.53979273e-04 3.50486770e-04 3.44676547e-04\n",
      " 3.42135918e-04 3.40912423e-04 3.38109475e-04 3.36189873e-04\n",
      " 3.30980803e-04 3.27448106e-04 3.25303096e-04 3.22777599e-04\n",
      " 3.19054812e-04 3.13845071e-04 3.09520246e-04 3.07695713e-04\n",
      " 3.06390745e-04 3.03785687e-04 3.01505760e-04 2.95740247e-04\n",
      " 2.95459487e-04 2.93133095e-04 2.87871236e-04 2.86729364e-04\n",
      " 2.86342203e-04 2.84001028e-04 2.80674257e-04 2.78732003e-04\n",
      " 2.75737773e-04 2.73928114e-04 2.71011105e-04 2.69476418e-04\n",
      " 2.67428325e-04 2.64270842e-04 2.60981875e-04 2.58147409e-04\n",
      " 2.55740996e-04 2.53928486e-04 2.49432627e-04 2.47294570e-04\n",
      " 2.46539225e-04 2.44983415e-04 2.42926417e-04 2.40572823e-04\n",
      " 2.39263998e-04 2.38782109e-04 2.35863359e-04 2.34162551e-04\n",
      " 2.31970900e-04 2.31188765e-04 2.29533990e-04 2.27658862e-04\n",
      " 2.25366024e-04 2.25263636e-04 2.22804766e-04 2.19844143e-04\n",
      " 2.18785059e-04 2.17757728e-04 2.16361946e-04 2.14362375e-04\n",
      " 2.11886351e-04 2.10653569e-04 2.09578987e-04 2.06841108e-04\n",
      " 2.05767059e-04 2.03689535e-04 2.02549145e-04 2.02001560e-04\n",
      " 2.00839475e-04 1.98114257e-04 1.97190883e-04 1.95577676e-04\n",
      " 1.94908980e-04 1.94267793e-04 1.92125718e-04 1.89675564e-04\n",
      " 1.88814372e-04 1.87759296e-04 1.84272994e-04 1.82733426e-04\n",
      " 1.82155460e-04 1.81988675e-04 1.80534151e-04 1.79425559e-04\n",
      " 1.77866451e-04 1.75957688e-04 1.73924502e-04 1.73782595e-04\n",
      " 1.72946674e-04 1.71375576e-04 1.69709501e-04 1.68911078e-04\n",
      " 1.67381250e-04 1.66050703e-04 1.65278003e-04 1.64002394e-04\n",
      " 1.62364114e-04 1.62079199e-04 1.60954478e-04 1.59574315e-04\n",
      " 1.58754529e-04 1.57577294e-04 1.56368683e-04 1.55404771e-04\n",
      " 1.54115148e-04 1.53554882e-04 1.52991141e-04 1.50956000e-04\n",
      " 1.49489203e-04 1.48772896e-04 1.46785916e-04 1.45991876e-04\n",
      " 1.44988860e-04 1.44270852e-04 1.42698639e-04 1.41695740e-04\n",
      " 1.40772528e-04 1.40552244e-04 1.39118824e-04 1.38667391e-04\n",
      " 1.37438963e-04 1.36808471e-04 1.35571740e-04 1.35004130e-04\n",
      " 1.34276454e-04 1.32608448e-04 1.32147864e-04 1.32035781e-04\n",
      " 1.31867486e-04 1.28742791e-04 1.28399974e-04 1.27869735e-04\n",
      " 1.25495398e-04 1.24874382e-04 1.23511782e-04 1.23151316e-04\n",
      " 1.21534449e-04 1.21162425e-04 1.20763057e-04 1.19861841e-04\n",
      " 1.19485884e-04 1.18779251e-04 1.17567215e-04 1.17040251e-04\n",
      " 1.16329050e-04 1.15306431e-04 1.14494735e-04 1.13095803e-04\n",
      " 1.12486238e-04 1.10939049e-04 1.10582961e-04 1.10330997e-04\n",
      " 1.09151576e-04 1.08951392e-04 1.07879898e-04 1.06047200e-04\n",
      " 1.05780739e-04 1.04592413e-04 1.04220428e-04 1.03146574e-04\n",
      " 1.02213887e-04 1.01649058e-04 1.00598194e-04 9.96644082e-05\n",
      " 9.95718831e-05 9.84671955e-05 9.79598885e-05 9.74090514e-05\n",
      " 9.65676729e-05 9.56471533e-05 9.51837230e-05 9.48306320e-05\n",
      " 9.41098033e-05 9.30879997e-05 9.25125566e-05 9.16748057e-05\n",
      " 9.11713444e-05 9.00009123e-05 8.91362368e-05 8.87089170e-05\n",
      " 8.83555085e-05 8.73397062e-05 8.61503660e-05 8.58711382e-05\n",
      " 8.44989734e-05 8.36321309e-05 8.32022844e-05 8.25717028e-05\n",
      " 8.22156908e-05 8.17321347e-05 8.08204777e-05 8.01083465e-05\n",
      " 7.96712815e-05 7.84465999e-05 7.79121624e-05 7.73815921e-05\n",
      " 7.67568918e-05 7.61210988e-05 7.56692410e-05 7.44932839e-05\n",
      " 7.41071933e-05 7.33451184e-05 7.31543434e-05 7.27750729e-05\n",
      " 7.14294796e-05 7.07023719e-05 7.02385815e-05 7.00228255e-05\n",
      " 6.88954473e-05 6.80418552e-05 6.75572593e-05 6.72887325e-05\n",
      " 6.56929343e-05 6.51582180e-05 6.43311614e-05 6.35173905e-05\n",
      " 6.33917464e-05 6.27088541e-05 6.23342991e-05 6.22648080e-05\n",
      " 6.13496726e-05 6.07026036e-05 5.98333058e-05 5.95754725e-05\n",
      " 5.91045747e-05 5.84178720e-05 5.74679020e-05 5.69283495e-05\n",
      " 5.64980688e-05 5.50093174e-05 5.48129374e-05 5.38988156e-05\n",
      " 5.37322442e-05 5.29434213e-05 5.25160421e-05 5.15962650e-05\n",
      " 5.10795092e-05 5.04859958e-05 4.96863559e-05 4.92310638e-05\n",
      " 4.85697094e-05 4.81746322e-05 4.71240303e-05 4.68842074e-05\n",
      " 4.65191715e-05 4.50009048e-05 4.47759828e-05 4.45198893e-05\n",
      " 4.37144140e-05 4.30648654e-05 4.26127239e-05 4.24059631e-05\n",
      " 4.23058833e-05 4.14711174e-05 4.11936239e-05 4.09620758e-05\n",
      " 4.07938541e-05 4.02462313e-05 3.96174995e-05 3.92668717e-05\n",
      " 3.76231183e-05 3.70092667e-05 3.62666186e-05 3.60821505e-05\n",
      " 3.54821898e-05 3.51529166e-05 3.43392911e-05 3.42239416e-05\n",
      " 3.38341301e-05 3.28402250e-05 3.23877624e-05 3.20689304e-05\n",
      " 3.17530946e-05 3.12340597e-05 3.10871225e-05 3.06926731e-05\n",
      " 2.99363219e-05 2.95965168e-05 2.89183526e-05 2.87104905e-05\n",
      " 2.85243487e-05 2.81340710e-05 2.78541736e-05 2.74349797e-05\n",
      " 2.71855316e-05 2.68096478e-05 2.65031333e-05 2.60983845e-05\n",
      " 2.56305166e-05 2.54169731e-05 2.51301634e-05 2.47711997e-05\n",
      " 2.42979782e-05 2.40012539e-05 2.37811563e-05 2.31829403e-05\n",
      " 2.25740476e-05 2.24777469e-05 2.20902520e-05 2.19415431e-05\n",
      " 2.14886866e-05 2.11050625e-05 2.02147222e-05 2.01022795e-05\n",
      " 1.99431112e-05 1.96088317e-05 1.92383233e-05 1.90913803e-05\n",
      " 1.89596050e-05 1.84843738e-05 1.82105835e-05 1.77897017e-05\n",
      " 1.74160797e-05 1.72482559e-05 1.69420248e-05 1.67652677e-05\n",
      " 1.65333504e-05 1.60003829e-05 1.58647401e-05 1.55610968e-05\n",
      " 1.53556156e-05 1.49627291e-05 1.45765628e-05 1.42321158e-05\n",
      " 1.41100019e-05 1.40472315e-05 1.39242701e-05 1.34456826e-05\n",
      " 1.33917145e-05 1.31919366e-05 1.30153201e-05 1.29671113e-05\n",
      " 1.27644365e-05 1.27093187e-05 1.24369097e-05 1.22213427e-05\n",
      " 1.20047445e-05 1.18110063e-05 1.16024219e-05 1.14528003e-05\n",
      " 1.13218929e-05 1.12327863e-05 1.08003243e-05 1.06398566e-05\n",
      " 1.04609737e-05 1.03137500e-05 1.01345757e-05 9.97444902e-06\n",
      " 9.64818129e-06 9.31466533e-06 9.23997320e-06 9.11896068e-06\n",
      " 9.07083496e-06 8.95068561e-06 8.88191332e-06 8.84370460e-06\n",
      " 8.33493540e-06 8.26418804e-06 8.14675547e-06 7.82335196e-06\n",
      " 7.65887548e-06 7.60308250e-06 7.52653775e-06 7.33773295e-06\n",
      " 7.25059421e-06 7.06287097e-06 7.01955050e-06 6.71311618e-06\n",
      " 6.60759786e-06 6.39925329e-06 6.35620824e-06 5.92033606e-06\n",
      " 5.90279993e-06 5.81089525e-06 5.62909832e-06 5.51235103e-06\n",
      " 5.49268524e-06 5.42579764e-06 5.26792967e-06 4.95742313e-06\n",
      " 4.81175283e-06 4.70638263e-06 4.63499877e-06 4.50462418e-06\n",
      " 4.42190484e-06 4.32465067e-06 4.25908690e-06 4.07491690e-06\n",
      " 4.02868930e-06 3.95463640e-06 3.92423164e-06 3.72370223e-06\n",
      " 3.59721677e-06 3.38529389e-06 3.34183393e-06 3.24407111e-06\n",
      " 3.19019935e-06 3.14174978e-06 3.07536382e-06 3.00275489e-06\n",
      " 2.87780663e-06 2.80686653e-06 2.75487180e-06 2.65419963e-06\n",
      " 2.57826346e-06 2.43980464e-06 2.41820510e-06 2.40036554e-06\n",
      " 2.36137894e-06 2.29169338e-06 2.19691950e-06 2.16544594e-06\n",
      " 2.07565239e-06 2.06535413e-06 1.98067096e-06 1.90432420e-06\n",
      " 1.82076281e-06 1.76144488e-06 1.70225649e-06 1.66293982e-06\n",
      " 1.59790972e-06 1.56551876e-06 1.50382386e-06 1.43495054e-06\n",
      " 1.40820387e-06 1.37974143e-06 1.37702594e-06 1.32900713e-06\n",
      " 1.31124245e-06 1.27527699e-06 1.21635086e-06 1.16933243e-06\n",
      " 1.09857386e-06 1.07933424e-06 1.05999953e-06 1.00667122e-06\n",
      " 9.38827737e-07 8.76685086e-07 8.59548545e-07 7.66581499e-07\n",
      " 7.50260566e-07 6.95193633e-07 6.78959973e-07 6.58189207e-07\n",
      " 6.48335091e-07 6.14824149e-07 5.98816207e-07 4.45100105e-07\n",
      " 4.18386563e-07 3.85303846e-07 3.61174506e-07 3.41199098e-07\n",
      " 3.04214017e-07 3.00920323e-07 2.88159753e-07 2.78202162e-07\n",
      " 2.69629471e-07 2.48770252e-07 2.44482044e-07 2.17748265e-07\n",
      " 2.11313793e-07 1.97902793e-07 1.83778411e-07 1.81252726e-07\n",
      " 1.64337099e-07 1.57831862e-07 1.42387313e-07 1.20416950e-07\n",
      " 1.17370542e-07 1.02678101e-07 1.01476228e-07 8.88148144e-08\n",
      " 7.17341514e-08 4.71147559e-08 3.73265104e-08 3.34713963e-08\n",
      " 2.53527724e-08 2.14485894e-08 2.11194960e-08 1.17415269e-08\n",
      " 1.09391726e-08 1.06087321e-08 9.16718506e-09 7.47246776e-09\n",
      " 3.60372366e-09 1.86138940e-09 1.32905889e-10 7.22324656e-11\n",
      " 4.04906395e-12 2.24420213e-12 2.74268215e-32 2.17858385e-32\n",
      " 1.87069917e-32 1.67492869e-32 1.63320641e-32 1.33038796e-32\n",
      " 1.23008788e-32 1.04789433e-32 9.30632849e-33 8.90498111e-33\n",
      " 8.01632369e-33 6.94796577e-33 6.50841286e-33 5.54791544e-33\n",
      " 5.28676411e-33 4.34923414e-33 3.88058734e-33 3.58644343e-33\n",
      " 3.18960727e-33 2.73926766e-33 2.42174269e-33 2.16255280e-33\n",
      " 2.02084409e-33 1.61113750e-33 1.47287662e-33 1.35312505e-33\n",
      " 1.13719363e-33 9.03161254e-34 7.52718198e-34 7.48064877e-34\n",
      " 4.80796335e-34 4.77772101e-34 4.77772101e-34 4.77772101e-34\n",
      " 4.77772101e-34 4.77772101e-34 4.77772101e-34 4.77772101e-34\n",
      " 4.77772101e-34 4.77772101e-34 4.77772101e-34 4.77772101e-34\n",
      " 4.77772101e-34 4.77772101e-34 4.77772101e-34 4.77772101e-34\n",
      " 4.77772101e-34 4.77772101e-34 4.77772101e-34 4.77772101e-34\n",
      " 4.77772101e-34 4.77772101e-34 4.77772101e-34 4.77772101e-34\n",
      " 4.77772101e-34 4.77772101e-34 4.77772101e-34 4.77772101e-34\n",
      " 4.77772101e-34 4.77772101e-34 4.77772101e-34 4.77772101e-34\n",
      " 4.77772101e-34 4.77772101e-34 4.77772101e-34 4.77772101e-34\n",
      " 4.77772101e-34 4.77772101e-34 4.77772101e-34 4.77772101e-34\n",
      " 4.77772101e-34 4.77772101e-34 4.77772101e-34 4.77772101e-34\n",
      " 4.77772101e-34 4.77772101e-34 4.77772101e-34 4.77772101e-34\n",
      " 4.77772101e-34 4.77772101e-34 4.77772101e-34 4.77772101e-34\n",
      " 4.77772101e-34 4.77772101e-34 4.77772101e-34 4.77772101e-34\n",
      " 4.77772101e-34 4.77772101e-34 4.77772101e-34 4.77772101e-34\n",
      " 4.77772101e-34 4.77772101e-34 4.77772101e-34 4.77772101e-34\n",
      " 4.77772101e-34 4.77772101e-34 4.77772101e-34 4.77772101e-34\n",
      " 4.77772101e-34 4.77772101e-34 4.77772101e-34 4.77772101e-34\n",
      " 4.77772101e-34 4.77772101e-34 4.77772101e-34 4.77772101e-34\n",
      " 4.77772101e-34 4.77772101e-34 4.77772101e-34 4.77772101e-34\n",
      " 4.77772101e-34 4.77772101e-34 4.77772101e-34 4.77772101e-34\n",
      " 4.77772101e-34 4.45790792e-34 3.46068110e-34 2.23653004e-34\n",
      " 1.23992506e-34 9.45724528e-35 2.92214695e-35 5.53107876e-36]\n"
     ]
    }
   ],
   "source": [
    "from sklearn.decomposition import PCA\n",
    "pca = PCA()\n",
    "pca.fit(X_train)\n",
    "print(pca.explained_variance_ratio_)"
   ]
  },
  {
   "cell_type": "code",
   "execution_count": 24,
   "metadata": {},
   "outputs": [
    {
     "data": {
      "text/plain": [
       "784"
      ]
     },
     "execution_count": 24,
     "metadata": {},
     "output_type": "execute_result"
    }
   ],
   "source": [
    "len(pca.explained_variance_ratio_)"
   ]
  },
  {
   "cell_type": "code",
   "execution_count": 25,
   "metadata": {},
   "outputs": [
    {
     "name": "stdout",
     "output_type": "stream",
     "text": [
      "[0.09929365 0.07076965 0.06137224 0.05479804 0.0480033  0.04357628\n",
      " 0.03287953 0.02957827 0.02782769 0.02330478 0.02077487 0.02044201\n",
      " 0.01721584 0.01688816 0.01628651 0.01536326 0.01299083 0.01270619\n",
      " 0.01198745 0.01149651 0.01055816 0.01021119 0.00959474 0.00944274\n",
      " 0.00876175 0.00824667 0.00797672 0.00780484 0.00720926 0.00688048\n",
      " 0.00657693 0.00640873 0.00606379 0.00589225 0.00568707 0.00532941\n",
      " 0.00510196 0.00486306 0.00481661 0.0047243  0.0045402  0.00420309\n",
      " 0.00415719 0.00407336 0.0037832  0.00361275 0.00354014 0.0034708\n",
      " 0.00329861 0.00325957 0.00320461 0.00315826 0.00301661 0.00289853\n",
      " 0.00282111 0.00273954 0.00267345 0.00256725 0.00249437 0.00247684\n",
      " 0.00241131 0.0023707  0.00224961 0.0022014  0.00211477 0.00206366\n",
      " 0.00202066 0.00196218 0.00192081 0.00189354 0.00183605 0.00175825\n",
      " 0.00172954 0.00169552 0.0016731  0.0016052  0.0015795  0.00154283\n",
      " 0.00145389 0.00142593 0.0014131  0.00139264 0.00137008 0.00133201\n",
      " 0.00131781]\n"
     ]
    }
   ],
   "source": [
    "# PCA with 90% of variance explained\n",
    "pca_90 = PCA(n_components=.9)\n",
    "pca_90.fit(X_train)\n",
    "print(pca_90.explained_variance_ratio_)"
   ]
  },
  {
   "cell_type": "code",
   "execution_count": 26,
   "metadata": {},
   "outputs": [
    {
     "data": {
      "text/plain": [
       "85"
      ]
     },
     "execution_count": 26,
     "metadata": {},
     "output_type": "execute_result"
    }
   ],
   "source": [
    "len(pca_90.explained_variance_ratio_)"
   ]
  },
  {
   "cell_type": "code",
   "execution_count": 40,
   "metadata": {},
   "outputs": [],
   "source": [
    "X_train_reduced = pca_90.fit_transform(X_train)\n",
    "X_test_reduced = pca_90.transform(X_test)"
   ]
  },
  {
   "cell_type": "code",
   "execution_count": 12,
   "metadata": {},
   "outputs": [
    {
     "name": "stdout",
     "output_type": "stream",
     "text": [
      "[0.09929365 0.07076965 0.06137224 0.05479804 0.0480033  0.04357628\n",
      " 0.03287953 0.02957827 0.02782769 0.02330478 0.02077487 0.02044201\n",
      " 0.01721584 0.01688816 0.01628651 0.01536326 0.01299083 0.01270619\n",
      " 0.01198745 0.01149651 0.01055816 0.01021119 0.00959474 0.00944274\n",
      " 0.00876175 0.00824667 0.00797672 0.00780484 0.00720926 0.00688048\n",
      " 0.00657693 0.00640873 0.00606379 0.00589225 0.00568707 0.00532941\n",
      " 0.00510196 0.00486306 0.00481661 0.0047243  0.0045402  0.00420309\n",
      " 0.00415719]\n"
     ]
    }
   ],
   "source": [
    "# PCA with 80% of variance explained\n",
    "pca_80 = PCA(n_components=.8)\n",
    "pca_80.fit(X_train)\n",
    "print(pca_80.explained_variance_ratio_)"
   ]
  },
  {
   "cell_type": "code",
   "execution_count": 13,
   "metadata": {},
   "outputs": [
    {
     "data": {
      "text/plain": [
       "43"
      ]
     },
     "execution_count": 13,
     "metadata": {},
     "output_type": "execute_result"
    }
   ],
   "source": [
    "len(pca_80.explained_variance_ratio_)"
   ]
  },
  {
   "cell_type": "code",
   "execution_count": 14,
   "metadata": {},
   "outputs": [],
   "source": [
    "X_train_reduced_80 = pca_80.fit_transform(X_train)\n",
    "X_test_reduced_80 = pca_80.transform(X_test)"
   ]
  },
  {
   "cell_type": "code",
   "execution_count": 35,
   "metadata": {},
   "outputs": [],
   "source": [
    "# standardisation + PCA\n",
    "from sklearn.preprocessing import StandardScaler\n",
    "\n",
    "scaler = StandardScaler()\n",
    "X_train_scaled = scaler.fit_transform(X_train)\n",
    "X_test_scaled = scaler.transform(X_test)\n",
    "\n",
    "X_train_scaled_reduced = pca_80.fit_transform(X_train_scaled)\n",
    "X_test_scaled_reduced = pca_80.transform(X_test_scaled)"
   ]
  },
  {
   "cell_type": "code",
   "execution_count": null,
   "metadata": {},
   "outputs": [
    {
     "name": "stdout",
     "output_type": "stream",
     "text": [
      "[0.09929365 0.07076965 0.06137224 0.05479804 0.0480033  0.04357628\n",
      " 0.03287953 0.02957827 0.02782769 0.02330478 0.02077487 0.02044201\n",
      " 0.01721584 0.01688816 0.01628651 0.01536326 0.01299083 0.01270619\n",
      " 0.01198745 0.01149651 0.01055816 0.01021119 0.00959474 0.00944274\n",
      " 0.00876175 0.00824667 0.00797672 0.00780484 0.00720926 0.00688048\n",
      " 0.00657693 0.00640873 0.00606379 0.00589225 0.00568707 0.00532941\n",
      " 0.00510196 0.00486306 0.00481661 0.0047243  0.0045402  0.00420309\n",
      " 0.00415719 0.00407336 0.0037832  0.00361275 0.00354014 0.0034708\n",
      " 0.00329861 0.00325957 0.00320461 0.00315826 0.00301661 0.00289853\n",
      " 0.00282111 0.00273954 0.00267345 0.00256725 0.00249437 0.00247684\n",
      " 0.00241131 0.0023707  0.00224961 0.0022014  0.00211477 0.00206366\n",
      " 0.00202066 0.00196218 0.00192081 0.00189354 0.00183605 0.00175825\n",
      " 0.00172954 0.00169552 0.0016731  0.0016052  0.0015795  0.00154283\n",
      " 0.00145389 0.00142593 0.0014131  0.00139264 0.00137008 0.00133201\n",
      " 0.00131781]\n"
     ]
    }
   ],
   "source": [
    "pca_90 = PCA(n_components=.9)\n",
    "pca_90.fit(X_train)\n",
    "print(pca_90.explained_variance_ratio_)"
   ]
  },
  {
   "cell_type": "code",
   "execution_count": 37,
   "metadata": {},
   "outputs": [],
   "source": [
    "# standardisation + PCA\n",
    "from sklearn.preprocessing import StandardScaler\n",
    "\n",
    "scaler = StandardScaler()\n",
    "X_train_scaled = scaler.fit_transform(X_train)\n",
    "X_test_scaled = scaler.transform(X_test)\n",
    "\n",
    "X_train_scaled_reduced = pca_90.fit_transform(X_train_scaled)\n",
    "X_test_scaled_reduced = pca_90.transform(X_test_scaled)"
   ]
  },
  {
   "cell_type": "markdown",
   "metadata": {},
   "source": [
    "### SVM"
   ]
  },
  {
   "cell_type": "markdown",
   "metadata": {},
   "source": [
    "Super ! Vos données sont prêtes. Vous allez entraîner un modèle de Support Vector Machine (SVM). 🤖\n",
    "\n",
    "Pour séparer les classes, ce modèle génère un hyperplan dans un espace à N-dimensions (autant de dimensions que vous avez de variables explicatives) en maximisant l'espace entre l'hyperplan et les support vecteurs (soit les coordonnées des points).\n",
    "\n",
    "\n",
    "\n",
    "<img src=\"https://miro.medium.com/max/1400/1*ZpkLQf2FNfzfH4HXeMw4MQ.png\" />\n",
    "\n",
    "\n",
    "Quelques ressources pour en apprendre plus sur le SVM : \n",
    "*   https://www.analyticsvidhya.com/blog/2017/09/understaing-support-vector-machine-example-code/ \n",
    "*   https://towardsdatascience.com/support-vector-machine-introduction-to-machine-learning-algorithms-934a444fca47 \n",
    "*   Le modèle est disponible dans <a href=\"https://scikit-learn.org/stable/modules/svm.html\">sklearn</a>.\n"
   ]
  },
  {
   "cell_type": "markdown",
   "metadata": {},
   "source": [
    "Entraînez un modèle en testant plusieurs hyperparamètres (par ex. \"kernel\" pour SVM ou \"n_components\" pour la PCA). <a href=\"https://towardsdatascience.com/how-to-select-the-best-number-of-principal-components-for-the-dataset-287e64b14c6d\"> Ici un article utile</a> sur la manière dont on peut choisir le nombre de composantes.\n",
    "\n",
    "Et pourquoi ne pas réaliser une GridSearch pour trouver les meilleurs paramètres ?"
   ]
  },
  {
   "cell_type": "code",
   "execution_count": 29,
   "metadata": {},
   "outputs": [
    {
     "name": "stdout",
     "output_type": "stream",
     "text": [
      "0.9857333333333334\n",
      "0.9552\n"
     ]
    }
   ],
   "source": [
    "# pas de pré-traitement sur les données\n",
    "from sklearn.svm import SVC\n",
    "\n",
    "svm = SVC(kernel='rbf', probability=False)\n",
    "svm.fit(X_train, y_train)\n",
    "\n",
    "print(svm.score(X_train, y_train))\n",
    "print(svm.score(X_test, y_test))"
   ]
  },
  {
   "cell_type": "code",
   "execution_count": 36,
   "metadata": {},
   "outputs": [
    {
     "name": "stdout",
     "output_type": "stream",
     "text": [
      "0.9806666666666667\n",
      "0.944\n"
     ]
    }
   ],
   "source": [
    "# après standardisation\n",
    "from sklearn.svm import SVC\n",
    "\n",
    "svm = SVC(kernel='rbf', probability=False)\n",
    "svm.fit(X_train_scaled, y_train)\n",
    "\n",
    "print(svm.score(X_train_scaled, y_train))\n",
    "print(svm.score(X_test_scaled, y_test))"
   ]
  },
  {
   "cell_type": "code",
   "execution_count": 32,
   "metadata": {},
   "outputs": [
    {
     "name": "stdout",
     "output_type": "stream",
     "text": [
      "0.9857333333333334\n",
      "0.9544\n"
     ]
    }
   ],
   "source": [
    "# après normalisation\n",
    "from sklearn.svm import SVC\n",
    "\n",
    "svm = SVC(kernel='rbf', probability=False)\n",
    "svm.fit(X_train_mmscaled, y_train)\n",
    "\n",
    "print(svm.score(X_train_mmscaled, y_train))\n",
    "print(svm.score(X_test_mmscaled, y_test))"
   ]
  },
  {
   "cell_type": "code",
   "execution_count": 69,
   "metadata": {},
   "outputs": [
    {
     "name": "stdout",
     "output_type": "stream",
     "text": [
      "0.9905333333333334\n",
      "0.9656\n"
     ]
    }
   ],
   "source": [
    "# avec PCA, 0.90 + rbf\n",
    "from sklearn.svm import SVC\n",
    "\n",
    "svm = SVC(kernel='rbf', probability=False)\n",
    "svm.fit(X_train_reduced, y_train)\n",
    "\n",
    "print(svm.score(X_train_reduced, y_train))\n",
    "print(svm.score(X_test_reduced, y_test))"
   ]
  },
  {
   "cell_type": "code",
   "execution_count": null,
   "metadata": {},
   "outputs": [
    {
     "name": "stdout",
     "output_type": "stream",
     "text": [
      "0.9872\n",
      "0.9636\n"
     ]
    }
   ],
   "source": [
    "# avec PCA, 0.8\n",
    "from sklearn.svm import SVC\n",
    "\n",
    "svm = SVC(kernel='rbf', probability=False)\n",
    "svm.fit(X_train_reduced_80, y_train)\n",
    "\n",
    "print(svm.score(X_train_reduced_80, y_train))\n",
    "print(svm.score(X_test_reduced_80, y_test))"
   ]
  },
  {
   "cell_type": "code",
   "execution_count": null,
   "metadata": {},
   "outputs": [],
   "source": [
    "# avec PCA, 0.90 + linear\n",
    "from sklearn.svm import SVC\n",
    "\n",
    "svm = SVC(kernel='linear', probability=False)\n",
    "svm.fit(X_train_reduced, y_train)\n",
    "\n",
    "print(svm.score(X_train_reduced, y_train))\n",
    "print(svm.score(X_test_reduced, y_test))"
   ]
  },
  {
   "cell_type": "code",
   "execution_count": 38,
   "metadata": {},
   "outputs": [
    {
     "name": "stdout",
     "output_type": "stream",
     "text": [
      "0.9817333333333333\n",
      "0.94\n"
     ]
    }
   ],
   "source": [
    "# après standardisation avec PCA 0.9\n",
    "from sklearn.svm import SVC\n",
    "\n",
    "svm = SVC(kernel='rbf', probability=False)\n",
    "svm.fit(X_train_scaled_reduced, y_train)\n",
    "\n",
    "print(svm.score(X_train_scaled_reduced, y_train))\n",
    "print(svm.score(X_test_scaled_reduced, y_test))"
   ]
  },
  {
   "cell_type": "code",
   "execution_count": 41,
   "metadata": {},
   "outputs": [
    {
     "name": "stdout",
     "output_type": "stream",
     "text": [
      "0.9806666666666667\n",
      "0.944\n"
     ]
    }
   ],
   "source": [
    "# après standardisation avec PCA 0.8\n",
    "from sklearn.svm import SVC\n",
    "\n",
    "svm = SVC(kernel='rbf', probability=False)\n",
    "svm.fit(X_train_scaled_reduced, y_train)\n",
    "\n",
    "print(svm.score(X_train_scaled_reduced, y_train))\n",
    "print(svm.score(X_test_scaled_reduced, y_test))"
   ]
  },
  {
   "cell_type": "code",
   "execution_count": 11,
   "metadata": {},
   "outputs": [
    {
     "name": "stdout",
     "output_type": "stream",
     "text": [
      "0.9870666666666666\n",
      "0.9472\n"
     ]
    }
   ],
   "source": [
    "#svm = SVC(kernel='poly')\n",
    "#svm.fit(X_train, y_train)\n",
    "\n",
    "#print(svm.score(X_train, y_train))\n",
    "#print(svm.score(X_test, y_test))"
   ]
  },
  {
   "cell_type": "code",
   "execution_count": null,
   "metadata": {},
   "outputs": [],
   "source": [
    "# On obtient un des meilleurs scores avec l'hyper-paramètre RBF et une PCA où on garde 43 variables explicatives (pour 80% de la variance).\n",
    "# On choisit donc ce modèle.\n",
    "# Il est surprenant ici de voir que la standardisation et la normalisation réduisent légèrement les scores sur les jeux de tests."
   ]
  },
  {
   "cell_type": "markdown",
   "metadata": {},
   "source": [
    "Une fois le meilleur modèle identifié, vous pouvez le ré-entrainer en incluant le paramètre `probability=True` : ce paramètre permet d'avoir les probabilités de chaque classe dans les prédictions, ce qui sera utile dans la suite de notre travail.\n",
    " \n",
    "Créez une variable `y_pred` avec les prédictions sur votre jeu de test."
   ]
  },
  {
   "cell_type": "code",
   "execution_count": 15,
   "metadata": {},
   "outputs": [
    {
     "name": "stdout",
     "output_type": "stream",
     "text": [
      "0.9872\n",
      "0.9636\n"
     ]
    }
   ],
   "source": [
    "# Modèle sélectionné : PCA 0.8 et kernel rbf\n",
    "from sklearn.svm import SVC\n",
    "\n",
    "svm = SVC(kernel='rbf', probability=True)\n",
    "svm.fit(X_train_reduced_80, y_train)\n",
    "\n",
    "print(svm.score(X_train_reduced_80, y_train))\n",
    "print(svm.score(X_test_reduced_80, y_test))"
   ]
  },
  {
   "cell_type": "code",
   "execution_count": 16,
   "metadata": {},
   "outputs": [],
   "source": [
    "y_pred = svm.predict(X_test_reduced_80)"
   ]
  },
  {
   "cell_type": "markdown",
   "metadata": {},
   "source": [
    "Maintenant que vous avez entrainé votre modèle, on va le tester en pratique sur les images."
   ]
  },
  {
   "cell_type": "markdown",
   "metadata": {},
   "source": [
    "Comme au début, on peut afficher plusieurs images de notre jeu de test avec la prédiction faite par notre modèle. Attention, il faut bien distinguer le `X_test` initial qui contient les 748 champs avec les valeurs des pixels, et notre `X_test` transformé après la PCA dont on ne peux plus distinguer les composantes (le code ci-dessous ne fonctionnera que si vous n'avez pas modifié le `X_test` initial mais créé une nouvelle variable en faisant la PCA)."
   ]
  },
  {
   "cell_type": "code",
   "execution_count": 24,
   "metadata": {},
   "outputs": [
    {
     "data": {
      "text/html": [
       "<div>\n",
       "<style scoped>\n",
       "    .dataframe tbody tr th:only-of-type {\n",
       "        vertical-align: middle;\n",
       "    }\n",
       "\n",
       "    .dataframe tbody tr th {\n",
       "        vertical-align: top;\n",
       "    }\n",
       "\n",
       "    .dataframe thead th {\n",
       "        text-align: right;\n",
       "    }\n",
       "</style>\n",
       "<table border=\"1\" class=\"dataframe\">\n",
       "  <thead>\n",
       "    <tr style=\"text-align: right;\">\n",
       "      <th></th>\n",
       "      <th>1x1</th>\n",
       "      <th>1x2</th>\n",
       "      <th>1x3</th>\n",
       "      <th>1x4</th>\n",
       "      <th>1x5</th>\n",
       "      <th>1x6</th>\n",
       "      <th>1x7</th>\n",
       "      <th>1x8</th>\n",
       "      <th>1x9</th>\n",
       "      <th>1x10</th>\n",
       "      <th>...</th>\n",
       "      <th>28x19</th>\n",
       "      <th>28x20</th>\n",
       "      <th>28x21</th>\n",
       "      <th>28x22</th>\n",
       "      <th>28x23</th>\n",
       "      <th>28x24</th>\n",
       "      <th>28x25</th>\n",
       "      <th>28x26</th>\n",
       "      <th>28x27</th>\n",
       "      <th>28x28</th>\n",
       "    </tr>\n",
       "  </thead>\n",
       "  <tbody>\n",
       "    <tr>\n",
       "      <th>1768</th>\n",
       "      <td>0</td>\n",
       "      <td>0</td>\n",
       "      <td>0</td>\n",
       "      <td>0</td>\n",
       "      <td>0</td>\n",
       "      <td>0</td>\n",
       "      <td>0</td>\n",
       "      <td>0</td>\n",
       "      <td>0</td>\n",
       "      <td>0</td>\n",
       "      <td>...</td>\n",
       "      <td>0</td>\n",
       "      <td>0</td>\n",
       "      <td>0</td>\n",
       "      <td>0</td>\n",
       "      <td>0</td>\n",
       "      <td>0</td>\n",
       "      <td>0</td>\n",
       "      <td>0</td>\n",
       "      <td>0</td>\n",
       "      <td>0</td>\n",
       "    </tr>\n",
       "    <tr>\n",
       "      <th>3708</th>\n",
       "      <td>0</td>\n",
       "      <td>0</td>\n",
       "      <td>0</td>\n",
       "      <td>0</td>\n",
       "      <td>0</td>\n",
       "      <td>0</td>\n",
       "      <td>0</td>\n",
       "      <td>0</td>\n",
       "      <td>0</td>\n",
       "      <td>0</td>\n",
       "      <td>...</td>\n",
       "      <td>0</td>\n",
       "      <td>0</td>\n",
       "      <td>0</td>\n",
       "      <td>0</td>\n",
       "      <td>0</td>\n",
       "      <td>0</td>\n",
       "      <td>0</td>\n",
       "      <td>0</td>\n",
       "      <td>0</td>\n",
       "      <td>0</td>\n",
       "    </tr>\n",
       "    <tr>\n",
       "      <th>1981</th>\n",
       "      <td>0</td>\n",
       "      <td>0</td>\n",
       "      <td>0</td>\n",
       "      <td>0</td>\n",
       "      <td>0</td>\n",
       "      <td>0</td>\n",
       "      <td>0</td>\n",
       "      <td>0</td>\n",
       "      <td>0</td>\n",
       "      <td>0</td>\n",
       "      <td>...</td>\n",
       "      <td>0</td>\n",
       "      <td>0</td>\n",
       "      <td>0</td>\n",
       "      <td>0</td>\n",
       "      <td>0</td>\n",
       "      <td>0</td>\n",
       "      <td>0</td>\n",
       "      <td>0</td>\n",
       "      <td>0</td>\n",
       "      <td>0</td>\n",
       "    </tr>\n",
       "    <tr>\n",
       "      <th>9555</th>\n",
       "      <td>0</td>\n",
       "      <td>0</td>\n",
       "      <td>0</td>\n",
       "      <td>0</td>\n",
       "      <td>0</td>\n",
       "      <td>0</td>\n",
       "      <td>0</td>\n",
       "      <td>0</td>\n",
       "      <td>0</td>\n",
       "      <td>0</td>\n",
       "      <td>...</td>\n",
       "      <td>0</td>\n",
       "      <td>0</td>\n",
       "      <td>0</td>\n",
       "      <td>0</td>\n",
       "      <td>0</td>\n",
       "      <td>0</td>\n",
       "      <td>0</td>\n",
       "      <td>0</td>\n",
       "      <td>0</td>\n",
       "      <td>0</td>\n",
       "    </tr>\n",
       "    <tr>\n",
       "      <th>7471</th>\n",
       "      <td>0</td>\n",
       "      <td>0</td>\n",
       "      <td>0</td>\n",
       "      <td>0</td>\n",
       "      <td>0</td>\n",
       "      <td>0</td>\n",
       "      <td>0</td>\n",
       "      <td>0</td>\n",
       "      <td>0</td>\n",
       "      <td>0</td>\n",
       "      <td>...</td>\n",
       "      <td>0</td>\n",
       "      <td>0</td>\n",
       "      <td>0</td>\n",
       "      <td>0</td>\n",
       "      <td>0</td>\n",
       "      <td>0</td>\n",
       "      <td>0</td>\n",
       "      <td>0</td>\n",
       "      <td>0</td>\n",
       "      <td>0</td>\n",
       "    </tr>\n",
       "    <tr>\n",
       "      <th>...</th>\n",
       "      <td>...</td>\n",
       "      <td>...</td>\n",
       "      <td>...</td>\n",
       "      <td>...</td>\n",
       "      <td>...</td>\n",
       "      <td>...</td>\n",
       "      <td>...</td>\n",
       "      <td>...</td>\n",
       "      <td>...</td>\n",
       "      <td>...</td>\n",
       "      <td>...</td>\n",
       "      <td>...</td>\n",
       "      <td>...</td>\n",
       "      <td>...</td>\n",
       "      <td>...</td>\n",
       "      <td>...</td>\n",
       "      <td>...</td>\n",
       "      <td>...</td>\n",
       "      <td>...</td>\n",
       "      <td>...</td>\n",
       "      <td>...</td>\n",
       "    </tr>\n",
       "    <tr>\n",
       "      <th>7049</th>\n",
       "      <td>0</td>\n",
       "      <td>0</td>\n",
       "      <td>0</td>\n",
       "      <td>0</td>\n",
       "      <td>0</td>\n",
       "      <td>0</td>\n",
       "      <td>0</td>\n",
       "      <td>0</td>\n",
       "      <td>0</td>\n",
       "      <td>0</td>\n",
       "      <td>...</td>\n",
       "      <td>0</td>\n",
       "      <td>0</td>\n",
       "      <td>0</td>\n",
       "      <td>0</td>\n",
       "      <td>0</td>\n",
       "      <td>0</td>\n",
       "      <td>0</td>\n",
       "      <td>0</td>\n",
       "      <td>0</td>\n",
       "      <td>0</td>\n",
       "    </tr>\n",
       "    <tr>\n",
       "      <th>974</th>\n",
       "      <td>0</td>\n",
       "      <td>0</td>\n",
       "      <td>0</td>\n",
       "      <td>0</td>\n",
       "      <td>0</td>\n",
       "      <td>0</td>\n",
       "      <td>0</td>\n",
       "      <td>0</td>\n",
       "      <td>0</td>\n",
       "      <td>0</td>\n",
       "      <td>...</td>\n",
       "      <td>0</td>\n",
       "      <td>0</td>\n",
       "      <td>0</td>\n",
       "      <td>0</td>\n",
       "      <td>0</td>\n",
       "      <td>0</td>\n",
       "      <td>0</td>\n",
       "      <td>0</td>\n",
       "      <td>0</td>\n",
       "      <td>0</td>\n",
       "    </tr>\n",
       "    <tr>\n",
       "      <th>5194</th>\n",
       "      <td>0</td>\n",
       "      <td>0</td>\n",
       "      <td>0</td>\n",
       "      <td>0</td>\n",
       "      <td>0</td>\n",
       "      <td>0</td>\n",
       "      <td>0</td>\n",
       "      <td>0</td>\n",
       "      <td>0</td>\n",
       "      <td>0</td>\n",
       "      <td>...</td>\n",
       "      <td>0</td>\n",
       "      <td>0</td>\n",
       "      <td>0</td>\n",
       "      <td>0</td>\n",
       "      <td>0</td>\n",
       "      <td>0</td>\n",
       "      <td>0</td>\n",
       "      <td>0</td>\n",
       "      <td>0</td>\n",
       "      <td>0</td>\n",
       "    </tr>\n",
       "    <tr>\n",
       "      <th>5299</th>\n",
       "      <td>0</td>\n",
       "      <td>0</td>\n",
       "      <td>0</td>\n",
       "      <td>0</td>\n",
       "      <td>0</td>\n",
       "      <td>0</td>\n",
       "      <td>0</td>\n",
       "      <td>0</td>\n",
       "      <td>0</td>\n",
       "      <td>0</td>\n",
       "      <td>...</td>\n",
       "      <td>0</td>\n",
       "      <td>0</td>\n",
       "      <td>0</td>\n",
       "      <td>0</td>\n",
       "      <td>0</td>\n",
       "      <td>0</td>\n",
       "      <td>0</td>\n",
       "      <td>0</td>\n",
       "      <td>0</td>\n",
       "      <td>0</td>\n",
       "    </tr>\n",
       "    <tr>\n",
       "      <th>4439</th>\n",
       "      <td>0</td>\n",
       "      <td>0</td>\n",
       "      <td>0</td>\n",
       "      <td>0</td>\n",
       "      <td>0</td>\n",
       "      <td>0</td>\n",
       "      <td>0</td>\n",
       "      <td>0</td>\n",
       "      <td>0</td>\n",
       "      <td>0</td>\n",
       "      <td>...</td>\n",
       "      <td>0</td>\n",
       "      <td>0</td>\n",
       "      <td>0</td>\n",
       "      <td>0</td>\n",
       "      <td>0</td>\n",
       "      <td>0</td>\n",
       "      <td>0</td>\n",
       "      <td>0</td>\n",
       "      <td>0</td>\n",
       "      <td>0</td>\n",
       "    </tr>\n",
       "  </tbody>\n",
       "</table>\n",
       "<p>2500 rows × 784 columns</p>\n",
       "</div>"
      ],
      "text/plain": [
       "      1x1  1x2  1x3  1x4  1x5  1x6  1x7  1x8  1x9  1x10  ...  28x19  28x20  \\\n",
       "1768    0    0    0    0    0    0    0    0    0     0  ...      0      0   \n",
       "3708    0    0    0    0    0    0    0    0    0     0  ...      0      0   \n",
       "1981    0    0    0    0    0    0    0    0    0     0  ...      0      0   \n",
       "9555    0    0    0    0    0    0    0    0    0     0  ...      0      0   \n",
       "7471    0    0    0    0    0    0    0    0    0     0  ...      0      0   \n",
       "...   ...  ...  ...  ...  ...  ...  ...  ...  ...   ...  ...    ...    ...   \n",
       "7049    0    0    0    0    0    0    0    0    0     0  ...      0      0   \n",
       "974     0    0    0    0    0    0    0    0    0     0  ...      0      0   \n",
       "5194    0    0    0    0    0    0    0    0    0     0  ...      0      0   \n",
       "5299    0    0    0    0    0    0    0    0    0     0  ...      0      0   \n",
       "4439    0    0    0    0    0    0    0    0    0     0  ...      0      0   \n",
       "\n",
       "      28x21  28x22  28x23  28x24  28x25  28x26  28x27  28x28  \n",
       "1768      0      0      0      0      0      0      0      0  \n",
       "3708      0      0      0      0      0      0      0      0  \n",
       "1981      0      0      0      0      0      0      0      0  \n",
       "9555      0      0      0      0      0      0      0      0  \n",
       "7471      0      0      0      0      0      0      0      0  \n",
       "...     ...    ...    ...    ...    ...    ...    ...    ...  \n",
       "7049      0      0      0      0      0      0      0      0  \n",
       "974       0      0      0      0      0      0      0      0  \n",
       "5194      0      0      0      0      0      0      0      0  \n",
       "5299      0      0      0      0      0      0      0      0  \n",
       "4439      0      0      0      0      0      0      0      0  \n",
       "\n",
       "[2500 rows x 784 columns]"
      ]
     },
     "execution_count": 24,
     "metadata": {},
     "output_type": "execute_result"
    }
   ],
   "source": [
    "X_test"
   ]
  },
  {
   "cell_type": "code",
   "execution_count": 23,
   "metadata": {},
   "outputs": [
    {
     "data": {
      "text/plain": [
       "array([[ 972.35409311,  253.08060153, -498.23969058, ...,   53.28437814,\n",
       "         -52.43861527,    6.2144566 ],\n",
       "       [-295.72456582,  738.70833736, -416.12899903, ...,  -53.33920144,\n",
       "         -97.81118043,  151.72287203],\n",
       "       [ 491.6703686 , -554.07412462,  131.31396024, ...,  246.68406889,\n",
       "         -27.32932104,  -60.47936764],\n",
       "       ...,\n",
       "       [ 700.73685891,  301.77496113,  108.89399986, ...,  219.30465413,\n",
       "         110.93859789,  295.81319426],\n",
       "       [ -57.21925088, -287.96278511,  723.63286358, ...,   73.17087558,\n",
       "         -65.65262341,  179.07604991],\n",
       "       [ 132.25946893,  977.04006765,   51.08542398, ...,  -76.3822992 ,\n",
       "         -47.43832368, -101.67625144]])"
      ]
     },
     "execution_count": 23,
     "metadata": {},
     "output_type": "execute_result"
    }
   ],
   "source": [
    "X_test_reduced_80"
   ]
  },
  {
   "cell_type": "code",
   "execution_count": 19,
   "metadata": {},
   "outputs": [
    {
     "data": {
      "text/plain": [
       "4"
      ]
     },
     "execution_count": 19,
     "metadata": {},
     "output_type": "execute_result"
    }
   ],
   "source": [
    "svm.predict(X_test_reduced_80)[1]"
   ]
  },
  {
   "cell_type": "code",
   "execution_count": 20,
   "metadata": {},
   "outputs": [
    {
     "data": {
      "text/plain": [
       "array([6.47091644e-05, 8.99959854e-05, 9.24243671e-05, 3.54960732e-04,\n",
       "       9.97210415e-01, 5.46317040e-05, 5.62814419e-05, 1.62471170e-03,\n",
       "       5.74129192e-05, 3.94456526e-04])"
      ]
     },
     "execution_count": 20,
     "metadata": {},
     "output_type": "execute_result"
    }
   ],
   "source": [
    "svm.predict_proba(X_test_reduced_80)[1]"
   ]
  },
  {
   "cell_type": "code",
   "execution_count": 28,
   "metadata": {},
   "outputs": [
    {
     "data": {
      "image/png": "[encoded data removed]",
      "text/plain": [
       "<Figure size 432x288 with 1 Axes>"
      ]
     },
     "metadata": {
      "needs_background": "light"
     },
     "output_type": "display_data"
    },
    {
     "data": {
      "image/png": "[encoded data removed]",
      "text/plain": [
       "<Figure size 432x288 with 1 Axes>"
      ]
     },
     "metadata": {
      "needs_background": "light"
     },
     "output_type": "display_data"
    },
    {
     "data": {
      "image/png": "[encoded data removed]",
      "text/plain": [
       "<Figure size 432x288 with 1 Axes>"
      ]
     },
     "metadata": {
      "needs_background": "light"
     },
     "output_type": "display_data"
    },
    {
     "data": {
      "image/png": "[encoded data removed]",
      "text/plain": [
       "<Figure size 432x288 with 1 Axes>"
      ]
     },
     "metadata": {
      "needs_background": "light"
     },
     "output_type": "display_data"
    },
    {
     "data": {
      "image/png": "[encoded data removed]",
      "text/plain": [
       "<Figure size 432x288 with 1 Axes>"
      ]
     },
     "metadata": {
      "needs_background": "light"
     },
     "output_type": "display_data"
    },
    {
     "data": {
      "image/png": "[encoded data removed]",
      "text/plain": [
       "<Figure size 432x288 with 1 Axes>"
      ]
     },
     "metadata": {
      "needs_background": "light"
     },
     "output_type": "display_data"
    }
   ],
   "source": [
    "for i in (np.random.randint(0,270,6)):\n",
    "    two_d = (np.reshape(X_test.values[i], (28, 28))).astype(np.uint8)\n",
    "    plt.title('predicted label: {0}'. format(y_pred[i]))\n",
    "    plt.imshow(two_d, interpolation='antialiased', cmap='gray')\n",
    "    plt.show()"
   ]
  },
  {
   "cell_type": "markdown",
   "metadata": {},
   "source": [
    "Affichez une matrice de confusion. Les résultats vous semblent-ils satisfaisants ?"
   ]
  },
  {
   "cell_type": "code",
   "execution_count": 29,
   "metadata": {},
   "outputs": [
    {
     "data": {
      "text/plain": [
       "array([[248,   0,   0,   0,   1,   0,   0,   0,   0,   1],\n",
       "       [  0, 247,   1,   1,   0,   0,   0,   0,   0,   1],\n",
       "       [  0,   0, 242,   2,   3,   0,   1,   0,   2,   0],\n",
       "       [  0,   1,   4, 228,   1,   7,   0,   6,   2,   1],\n",
       "       [  0,   0,   1,   0, 242,   0,   0,   1,   0,   6],\n",
       "       [  0,   0,   0,   5,   1, 241,   3,   0,   0,   0],\n",
       "       [  2,   0,   0,   1,   0,   0, 246,   0,   1,   0],\n",
       "       [  2,   0,   1,   0,   3,   0,   0, 244,   0,   0],\n",
       "       [  0,   2,   1,   3,   1,   1,   2,   0, 239,   1],\n",
       "       [  1,   1,   1,   5,   4,   0,   0,   5,   1, 232]])"
      ]
     },
     "execution_count": 29,
     "metadata": {},
     "output_type": "execute_result"
    }
   ],
   "source": [
    "from sklearn.metrics import confusion_matrix\n",
    "confusion_matrix(y_test, y_pred)"
   ]
  },
  {
   "cell_type": "markdown",
   "metadata": {},
   "source": [
    "Le modèle devrait donner des résultats satisfaisants dans l'ensemble."
   ]
  },
  {
   "cell_type": "markdown",
   "metadata": {},
   "source": [
    "## Création d'une pipeline"
   ]
  },
  {
   "cell_type": "markdown",
   "metadata": {},
   "source": [
    "Examinez le code ci-dessous puis exécutez-le. "
   ]
  },
  {
   "cell_type": "code",
   "execution_count": 30,
   "metadata": {},
   "outputs": [],
   "source": [
    "from sklearn.model_selection import train_test_split\n",
    "\n",
    "X = df_sample.iloc[:, 1:]\n",
    "y = df_sample['label']\n",
    "\n",
    "X_train, X_test, y_train, y_test = train_test_split(X, y, random_state=42, stratify=y)"
   ]
  },
  {
   "cell_type": "code",
   "execution_count": 31,
   "metadata": {},
   "outputs": [],
   "source": [
    "from sklearn.pipeline import Pipeline\n",
    "from sklearn.decomposition import PCA\n",
    "from sklearn.svm import SVC\n",
    "\n",
    "steps = [('pca', PCA(n_components=.8)), ('svm', SVC(kernel='rbf', probability=True))]\n",
    "pipeline = Pipeline(steps)    "
   ]
  },
  {
   "cell_type": "code",
   "execution_count": 32,
   "metadata": {},
   "outputs": [
    {
     "data": {
      "text/html": [
       "<style>#sk-container-id-1 {color: black;background-color: white;}#sk-container-id-1 pre{padding: 0;}#sk-container-id-1 div.sk-toggleable {background-color: white;}#sk-container-id-1 label.sk-toggleable__label {cursor: pointer;display: block;width: 100%;margin-bottom: 0;padding: 0.3em;box-sizing: border-box;text-align: center;}#sk-container-id-1 label.sk-toggleable__label-arrow:before {content: \"▸\";float: left;margin-right: 0.25em;color: #696969;}#sk-container-id-1 label.sk-toggleable__label-arrow:hover:before {color: black;}#sk-container-id-1 div.sk-estimator:hover label.sk-toggleable__label-arrow:before {color: black;}#sk-container-id-1 div.sk-toggleable__content {max-height: 0;max-width: 0;overflow: hidden;text-align: left;background-color: #f0f8ff;}#sk-container-id-1 div.sk-toggleable__content pre {margin: 0.2em;color: black;border-radius: 0.25em;background-color: #f0f8ff;}#sk-container-id-1 input.sk-toggleable__control:checked~div.sk-toggleable__content {max-height: 200px;max-width: 100%;overflow: auto;}#sk-container-id-1 input.sk-toggleable__control:checked~label.sk-toggleable__label-arrow:before {content: \"▾\";}#sk-container-id-1 div.sk-estimator input.sk-toggleable__control:checked~label.sk-toggleable__label {background-color: #d4ebff;}#sk-container-id-1 div.sk-label input.sk-toggleable__control:checked~label.sk-toggleable__label {background-color: #d4ebff;}#sk-container-id-1 input.sk-hidden--visually {border: 0;clip: rect(1px 1px 1px 1px);clip: rect(1px, 1px, 1px, 1px);height: 1px;margin: -1px;overflow: hidden;padding: 0;position: absolute;width: 1px;}#sk-container-id-1 div.sk-estimator {font-family: monospace;background-color: #f0f8ff;border: 1px dotted black;border-radius: 0.25em;box-sizing: border-box;margin-bottom: 0.5em;}#sk-container-id-1 div.sk-estimator:hover {background-color: #d4ebff;}#sk-container-id-1 div.sk-parallel-item::after {content: \"\";width: 100%;border-bottom: 1px solid gray;flex-grow: 1;}#sk-container-id-1 div.sk-label:hover label.sk-toggleable__label {background-color: #d4ebff;}#sk-container-id-1 div.sk-serial::before {content: \"\";position: absolute;border-left: 1px solid gray;box-sizing: border-box;top: 0;bottom: 0;left: 50%;z-index: 0;}#sk-container-id-1 div.sk-serial {display: flex;flex-direction: column;align-items: center;background-color: white;padding-right: 0.2em;padding-left: 0.2em;position: relative;}#sk-container-id-1 div.sk-item {position: relative;z-index: 1;}#sk-container-id-1 div.sk-parallel {display: flex;align-items: stretch;justify-content: center;background-color: white;position: relative;}#sk-container-id-1 div.sk-item::before, #sk-container-id-1 div.sk-parallel-item::before {content: \"\";position: absolute;border-left: 1px solid gray;box-sizing: border-box;top: 0;bottom: 0;left: 50%;z-index: -1;}#sk-container-id-1 div.sk-parallel-item {display: flex;flex-direction: column;z-index: 1;position: relative;background-color: white;}#sk-container-id-1 div.sk-parallel-item:first-child::after {align-self: flex-end;width: 50%;}#sk-container-id-1 div.sk-parallel-item:last-child::after {align-self: flex-start;width: 50%;}#sk-container-id-1 div.sk-parallel-item:only-child::after {width: 0;}#sk-container-id-1 div.sk-dashed-wrapped {border: 1px dashed gray;margin: 0 0.4em 0.5em 0.4em;box-sizing: border-box;padding-bottom: 0.4em;background-color: white;}#sk-container-id-1 div.sk-label label {font-family: monospace;font-weight: bold;display: inline-block;line-height: 1.2em;}#sk-container-id-1 div.sk-label-container {text-align: center;}#sk-container-id-1 div.sk-container {/* jupyter's `normalize.less` sets `[hidden] { display: none; }` but bootstrap.min.css set `[hidden] { display: none !important; }` so we also need the `!important` here to be able to override the default hidden behavior on the sphinx rendered scikit-learn.org. See: https://github.com/scikit-learn/scikit-learn/issues/21755 */display: inline-block !important;position: relative;}#sk-container-id-1 div.sk-text-repr-fallback {display: none;}</style><div id=\"sk-container-id-1\" class=\"sk-top-container\"><div class=\"sk-text-repr-fallback\"><pre>Pipeline(steps=[(&#x27;pca&#x27;, PCA(n_components=0.8)), (&#x27;svm&#x27;, SVC(probability=True))])</pre><b>In a Jupyter environment, please rerun this cell to show the HTML representation or trust the notebook. <br />On GitHub, the HTML representation is unable to render, please try loading this page with nbviewer.org.</b></div><div class=\"sk-container\" hidden><div class=\"sk-item sk-dashed-wrapped\"><div class=\"sk-label-container\"><div class=\"sk-label sk-toggleable\"><input class=\"sk-toggleable__control sk-hidden--visually\" id=\"sk-estimator-id-1\" type=\"checkbox\" ><label for=\"sk-estimator-id-1\" class=\"sk-toggleable__label sk-toggleable__label-arrow\">Pipeline</label><div class=\"sk-toggleable__content\"><pre>Pipeline(steps=[(&#x27;pca&#x27;, PCA(n_components=0.8)), (&#x27;svm&#x27;, SVC(probability=True))])</pre></div></div></div><div class=\"sk-serial\"><div class=\"sk-item\"><div class=\"sk-estimator sk-toggleable\"><input class=\"sk-toggleable__control sk-hidden--visually\" id=\"sk-estimator-id-2\" type=\"checkbox\" ><label for=\"sk-estimator-id-2\" class=\"sk-toggleable__label sk-toggleable__label-arrow\">PCA</label><div class=\"sk-toggleable__content\"><pre>PCA(n_components=0.8)</pre></div></div></div><div class=\"sk-item\"><div class=\"sk-estimator sk-toggleable\"><input class=\"sk-toggleable__control sk-hidden--visually\" id=\"sk-estimator-id-3\" type=\"checkbox\" ><label for=\"sk-estimator-id-3\" class=\"sk-toggleable__label sk-toggleable__label-arrow\">SVC</label><div class=\"sk-toggleable__content\"><pre>SVC(probability=True)</pre></div></div></div></div></div></div></div>"
      ],
      "text/plain": [
       "Pipeline(steps=[('pca', PCA(n_components=0.8)), ('svm', SVC(probability=True))])"
      ]
     },
     "execution_count": 32,
     "metadata": {},
     "output_type": "execute_result"
    }
   ],
   "source": [
    "pipeline.fit(X_train, y_train)"
   ]
  },
  {
   "cell_type": "code",
   "execution_count": 33,
   "metadata": {},
   "outputs": [
    {
     "data": {
      "text/plain": [
       "array([6, 4, 3, ..., 0, 8, 4])"
      ]
     },
     "execution_count": 33,
     "metadata": {},
     "output_type": "execute_result"
    }
   ],
   "source": [
    "pipeline.predict(X_test)"
   ]
  },
  {
   "cell_type": "code",
   "execution_count": 34,
   "metadata": {},
   "outputs": [
    {
     "name": "stdout",
     "output_type": "stream",
     "text": [
      "0.9872\n",
      "0.9636\n"
     ]
    }
   ],
   "source": [
    "print(pipeline.score(X_train, y_train))\n",
    "print(pipeline.score(X_test, y_test))"
   ]
  },
  {
   "cell_type": "markdown",
   "metadata": {},
   "source": [
    "On crée ici un Pipeline, il s'agit d'une suite d'actions qui permet en une seule exécution de réaliser plusieurs traitements à la suite sur nos données. \n",
    "\n",
    "Ce pipeline reprend ce qu'on a fait plus haut, à savoir il applique la PCA puis le modèle SVM sur nos données. Si vous avez standardisé vos données, vous pouvez ajouter cette étape dans le pipeline. \n",
    "\n",
    "Un pipeline peut aussi être utilisé pour tester divers hyperparamètres sur plusieurs étapes d'entraînement du modèle (par ex. n_components dans la PCA, hyperparamètres du modèle) : un exemple concret <a href=\"https://scikit-learn.org/stable/auto_examples/compose/plot_digits_pipe.html\"> ici</a>."
   ]
  },
  {
   "cell_type": "markdown",
   "metadata": {},
   "source": [
    "## Sauvegarde du modèle"
   ]
  },
  {
   "cell_type": "markdown",
   "metadata": {},
   "source": [
    "Pour pouvoir rapidement prédire un label sur de nouvelles données (soit des chiffres qu'on va dessiner nous-mêmes !), il est utile de stocker notre modèle entraîné dans un fichier à partir duquel on pourra directement le charger dans notre application. \n",
    "\n",
    "Pour cela, on utilise la librairie Pickle qui permet de 'sérialiser' et de 'désérialiser' des objets Python, c'est-à-dire de stocker dans un format binaire le contenu d'un objet (une liste, un modèle...) qu'on peut ré-importer ensuite.\n",
    "\n",
    "*   Documentation Python sur Pickle (FR) : https://docs.python.org/fr/3/library/pickle.html\n",
    "*   https://machinelearningmastery.com/save-load-machine-learning-models-python-scikit-learn/\n",
    "*   https://www.quennec.fr/trucs-astuces/langages/python/python-le-module-pickle "
   ]
  },
  {
   "cell_type": "code",
   "execution_count": 35,
   "metadata": {},
   "outputs": [],
   "source": [
    "import pickle\n",
    "filename = 'digit_classifier.sav'"
   ]
  },
  {
   "cell_type": "code",
   "execution_count": 36,
   "metadata": {},
   "outputs": [],
   "source": [
    "# Save the model\n",
    "pickle.dump(pipeline, open(filename, 'wb'))"
   ]
  },
  {
   "cell_type": "markdown",
   "metadata": {},
   "source": [
    "Après l'exécution de ce code, vous devriez avoir un nouveau fichier `digit_classifier.sav` qui stocke votre modèle."
   ]
  },
  {
   "cell_type": "code",
   "execution_count": 37,
   "metadata": {},
   "outputs": [],
   "source": [
    " # Load the model\n",
    "loaded_model = pickle.load(open(filename, 'rb'))"
   ]
  },
  {
   "cell_type": "code",
   "execution_count": 38,
   "metadata": {},
   "outputs": [
    {
     "data": {
      "text/html": [
       "<style>#sk-container-id-2 {color: black;background-color: white;}#sk-container-id-2 pre{padding: 0;}#sk-container-id-2 div.sk-toggleable {background-color: white;}#sk-container-id-2 label.sk-toggleable__label {cursor: pointer;display: block;width: 100%;margin-bottom: 0;padding: 0.3em;box-sizing: border-box;text-align: center;}#sk-container-id-2 label.sk-toggleable__label-arrow:before {content: \"▸\";float: left;margin-right: 0.25em;color: #696969;}#sk-container-id-2 label.sk-toggleable__label-arrow:hover:before {color: black;}#sk-container-id-2 div.sk-estimator:hover label.sk-toggleable__label-arrow:before {color: black;}#sk-container-id-2 div.sk-toggleable__content {max-height: 0;max-width: 0;overflow: hidden;text-align: left;background-color: #f0f8ff;}#sk-container-id-2 div.sk-toggleable__content pre {margin: 0.2em;color: black;border-radius: 0.25em;background-color: #f0f8ff;}#sk-container-id-2 input.sk-toggleable__control:checked~div.sk-toggleable__content {max-height: 200px;max-width: 100%;overflow: auto;}#sk-container-id-2 input.sk-toggleable__control:checked~label.sk-toggleable__label-arrow:before {content: \"▾\";}#sk-container-id-2 div.sk-estimator input.sk-toggleable__control:checked~label.sk-toggleable__label {background-color: #d4ebff;}#sk-container-id-2 div.sk-label input.sk-toggleable__control:checked~label.sk-toggleable__label {background-color: #d4ebff;}#sk-container-id-2 input.sk-hidden--visually {border: 0;clip: rect(1px 1px 1px 1px);clip: rect(1px, 1px, 1px, 1px);height: 1px;margin: -1px;overflow: hidden;padding: 0;position: absolute;width: 1px;}#sk-container-id-2 div.sk-estimator {font-family: monospace;background-color: #f0f8ff;border: 1px dotted black;border-radius: 0.25em;box-sizing: border-box;margin-bottom: 0.5em;}#sk-container-id-2 div.sk-estimator:hover {background-color: #d4ebff;}#sk-container-id-2 div.sk-parallel-item::after {content: \"\";width: 100%;border-bottom: 1px solid gray;flex-grow: 1;}#sk-container-id-2 div.sk-label:hover label.sk-toggleable__label {background-color: #d4ebff;}#sk-container-id-2 div.sk-serial::before {content: \"\";position: absolute;border-left: 1px solid gray;box-sizing: border-box;top: 0;bottom: 0;left: 50%;z-index: 0;}#sk-container-id-2 div.sk-serial {display: flex;flex-direction: column;align-items: center;background-color: white;padding-right: 0.2em;padding-left: 0.2em;position: relative;}#sk-container-id-2 div.sk-item {position: relative;z-index: 1;}#sk-container-id-2 div.sk-parallel {display: flex;align-items: stretch;justify-content: center;background-color: white;position: relative;}#sk-container-id-2 div.sk-item::before, #sk-container-id-2 div.sk-parallel-item::before {content: \"\";position: absolute;border-left: 1px solid gray;box-sizing: border-box;top: 0;bottom: 0;left: 50%;z-index: -1;}#sk-container-id-2 div.sk-parallel-item {display: flex;flex-direction: column;z-index: 1;position: relative;background-color: white;}#sk-container-id-2 div.sk-parallel-item:first-child::after {align-self: flex-end;width: 50%;}#sk-container-id-2 div.sk-parallel-item:last-child::after {align-self: flex-start;width: 50%;}#sk-container-id-2 div.sk-parallel-item:only-child::after {width: 0;}#sk-container-id-2 div.sk-dashed-wrapped {border: 1px dashed gray;margin: 0 0.4em 0.5em 0.4em;box-sizing: border-box;padding-bottom: 0.4em;background-color: white;}#sk-container-id-2 div.sk-label label {font-family: monospace;font-weight: bold;display: inline-block;line-height: 1.2em;}#sk-container-id-2 div.sk-label-container {text-align: center;}#sk-container-id-2 div.sk-container {/* jupyter's `normalize.less` sets `[hidden] { display: none; }` but bootstrap.min.css set `[hidden] { display: none !important; }` so we also need the `!important` here to be able to override the default hidden behavior on the sphinx rendered scikit-learn.org. See: https://github.com/scikit-learn/scikit-learn/issues/21755 */display: inline-block !important;position: relative;}#sk-container-id-2 div.sk-text-repr-fallback {display: none;}</style><div id=\"sk-container-id-2\" class=\"sk-top-container\"><div class=\"sk-text-repr-fallback\"><pre>Pipeline(steps=[(&#x27;pca&#x27;, PCA(n_components=0.8)), (&#x27;svm&#x27;, SVC(probability=True))])</pre><b>In a Jupyter environment, please rerun this cell to show the HTML representation or trust the notebook. <br />On GitHub, the HTML representation is unable to render, please try loading this page with nbviewer.org.</b></div><div class=\"sk-container\" hidden><div class=\"sk-item sk-dashed-wrapped\"><div class=\"sk-label-container\"><div class=\"sk-label sk-toggleable\"><input class=\"sk-toggleable__control sk-hidden--visually\" id=\"sk-estimator-id-4\" type=\"checkbox\" ><label for=\"sk-estimator-id-4\" class=\"sk-toggleable__label sk-toggleable__label-arrow\">Pipeline</label><div class=\"sk-toggleable__content\"><pre>Pipeline(steps=[(&#x27;pca&#x27;, PCA(n_components=0.8)), (&#x27;svm&#x27;, SVC(probability=True))])</pre></div></div></div><div class=\"sk-serial\"><div class=\"sk-item\"><div class=\"sk-estimator sk-toggleable\"><input class=\"sk-toggleable__control sk-hidden--visually\" id=\"sk-estimator-id-5\" type=\"checkbox\" ><label for=\"sk-estimator-id-5\" class=\"sk-toggleable__label sk-toggleable__label-arrow\">PCA</label><div class=\"sk-toggleable__content\"><pre>PCA(n_components=0.8)</pre></div></div></div><div class=\"sk-item\"><div class=\"sk-estimator sk-toggleable\"><input class=\"sk-toggleable__control sk-hidden--visually\" id=\"sk-estimator-id-6\" type=\"checkbox\" ><label for=\"sk-estimator-id-6\" class=\"sk-toggleable__label sk-toggleable__label-arrow\">SVC</label><div class=\"sk-toggleable__content\"><pre>SVC(probability=True)</pre></div></div></div></div></div></div></div>"
      ],
      "text/plain": [
       "Pipeline(steps=[('pca', PCA(n_components=0.8)), ('svm', SVC(probability=True))])"
      ]
     },
     "execution_count": 38,
     "metadata": {},
     "output_type": "execute_result"
    }
   ],
   "source": [
    "loaded_model"
   ]
  },
  {
   "cell_type": "markdown",
   "metadata": {},
   "source": [
    "## Test des prédictions"
   ]
  },
  {
   "cell_type": "markdown",
   "metadata": {},
   "source": [
    "On teste notre modèle enregistré sur une des prédictions (1e ligne de X_test)."
   ]
  },
  {
   "cell_type": "code",
   "execution_count": 39,
   "metadata": {},
   "outputs": [
    {
     "data": {
      "text/plain": [
       "(784,)"
      ]
     },
     "execution_count": 39,
     "metadata": {},
     "output_type": "execute_result"
    }
   ],
   "source": [
    "# On a 784 colonnes correspondant aux 28x28 pixels de l'image\n",
    "img_test_0 = X_test.iloc[0].values\n",
    "img_test_0.shape"
   ]
  },
  {
   "cell_type": "code",
   "execution_count": 40,
   "metadata": {},
   "outputs": [
    {
     "data": {
      "text/plain": [
       "(1, 784)"
      ]
     },
     "execution_count": 40,
     "metadata": {},
     "output_type": "execute_result"
    }
   ],
   "source": [
    "# On ajoute une dimension pour la prédiction\n",
    "img_test_0 =  np.array(img_test_0).reshape(1, -1) \n",
    "img_test_0.shape"
   ]
  },
  {
   "cell_type": "markdown",
   "metadata": {},
   "source": [
    "Affichez la valeur prédite pour la 1ère ligne de X_test."
   ]
  },
  {
   "cell_type": "code",
   "execution_count": 42,
   "metadata": {},
   "outputs": [
    {
     "name": "stderr",
     "output_type": "stream",
     "text": [
      "/Users/emilie/Desktop/projects/ATELIERS/Atelier Number Recognition/venv/lib/python3.10/site-packages/sklearn/base.py:450: UserWarning: X does not have valid feature names, but PCA was fitted with feature names\n",
      "  warnings.warn(\n"
     ]
    },
    {
     "data": {
      "text/plain": [
       "array([6])"
      ]
     },
     "execution_count": 42,
     "metadata": {},
     "output_type": "execute_result"
    }
   ],
   "source": [
    "# Le modèle prédit un 6 pour la 1e ligne de X_test\n",
    "loaded_model.predict(img_test_0)"
   ]
  },
  {
   "cell_type": "code",
   "execution_count": 43,
   "metadata": {},
   "outputs": [
    {
     "data": {
      "text/plain": [
       "(28, 28)"
      ]
     },
     "execution_count": 43,
     "metadata": {},
     "output_type": "execute_result"
    }
   ],
   "source": [
    "# On change les dimensions de la 1e ligne pour obtenir une matrice de 28x28\n",
    "img_test_0 = img_test_0.reshape(28, 28)\n",
    "img_test_0.shape"
   ]
  },
  {
   "cell_type": "markdown",
   "metadata": {},
   "source": [
    "On peut ainsi afficher la matrice au format 28x28. Le chiffre prédit apparait-il bien dans cette matrice ?\n"
   ]
  },
  {
   "cell_type": "code",
   "execution_count": 44,
   "metadata": {},
   "outputs": [
    {
     "name": "stdout",
     "output_type": "stream",
     "text": [
      "  0   0   0   0   0   0   0   0   0   0   0   0   0   0   0   0   0   0   0   0   0   0   0   0   0   0   0   0\n",
      "  0   0   0   0   0   0   0   0   0   0   0   0   0   0   0   0   0   0   0   0   0   0   0   0   0   0   0   0\n",
      "  0   0   0   0   0   0   0   0   0   0   0   0   0   0   0   0   0   0   0   0   0   0   0   0   0   0   0   0\n",
      "  0   0   0   0   0   0   0   0   0   0   0  36 222 253 201  11   0   0   0   0   0   0   0   0   0   0   0   0\n",
      "  0   0   0   0   0   0   0   0   0   0   5 178 252 252 252 189   0   0   0   0   0   0   0   0   0   0   0   0\n",
      "  0   0   0   0   0   0   0   0   0   0 108 252 252 252 252 115   0   0   0   0   0   0   0   0   0   0   0   0\n",
      "  0   0   0   0   0   0   0   0   0  95 233 252 252 252 252   0   0   0   0   0   0   0   0   0   0   0   0   0\n",
      "  0   0   0   0   0   0   0   0   0 168 253 252 252 210 137   0   0   0   0   0   0   0   0   0   0   0   0   0\n",
      "  0   0   0   0   0   0   0   0   9 233 255 253 215  21   0   0   0   0   0   0   0   0   0   0   0   0   0   0\n",
      "  0   0   0   0   0   0   0   0 166 252 253 252 110   0   0   0   0   0   0   0   0   0   0   0   0   0   0   0\n",
      "  0   0   0   0   0   0   0   0 207 252 253 218  19   0   0   0   0   0   0   0   0   0   0   0   0   0   0   0\n",
      "  0   0   0   0   0   0   0 100 244 252 245  79   0   0   0   0   0  68  93  51   0   0   0   0   0   0   0   0\n",
      "  0   0   0   0   0   0  43 246 252 252 251  84   0   0   0 116 189 246 252 242  53   0   0   0   0   0   0   0\n",
      "  0   0   0   0   0   0  47 253 253 253 231   0   0  62 191 255 253 253 253 253 255 180  48   0   0   0   0   0\n",
      "  0   0   0   0   0   0  47 252 252 252 209   0   0 207 252 253 252 252 252 252 253 252 183   0   0   0   0   0\n",
      "  0   0   0   0   0   0  47 252 252 252  32   0 134 240 252 253 252 252 252 252 253 252 151   0   0   0   0   0\n",
      "  0   0   0   0   0   0  47 252 252 252   0   0 184 252 252 253 120 102 252 252 253 235  44   0   0   0   0   0\n",
      "  0   0   0   0   0   0  47 252 252 252 158   0  17 158 252 243  50  70 252 252 253 206   0   0   0   0   0   0\n",
      "  0   0   0   0   0   0   0 123 253 253 179   0   0   0  53  53  68  76 253 253 252 135   0   0   0   0   0   0\n",
      "  0   0   0   0   0   0   0  25 202 252 245  80   0   0  22  47 157 179 252 252 209   0   0   0   0   0   0   0\n",
      "  0   0   0   0   0   0   0   0  25 236 253 240 101 112 215 253 252 252 252 252  84   0   0   0   0   0   0   0\n",
      "  0   0   0   0   0   0   0   0   0  94 211 252 252 252 252 253 252 210 252 116   0   0   0   0   0   0   0   0\n",
      "  0   0   0   0   0   0   0   0   0   0  23 158 252 252 252 253 231  43  22   2   0   0   0   0   0   0   0   0\n",
      "  0   0   0   0   0   0   0   0   0   0   0   0   0   0   0   0   0   0   0   0   0   0   0   0   0   0   0   0\n",
      "  0   0   0   0   0   0   0   0   0   0   0   0   0   0   0   0   0   0   0   0   0   0   0   0   0   0   0   0\n",
      "  0   0   0   0   0   0   0   0   0   0   0   0   0   0   0   0   0   0   0   0   0   0   0   0   0   0   0   0\n",
      "  0   0   0   0   0   0   0   0   0   0   0   0   0   0   0   0   0   0   0   0   0   0   0   0   0   0   0   0\n",
      "  0   0   0   0   0   0   0   0   0   0   0   0   0   0   0   0   0   0   0   0   0   0   0   0   0   0   0   0\n"
     ]
    }
   ],
   "source": [
    "for row in img_test_0:\n",
    "    print(' '.join('{:3}'.format(value) for value in row))"
   ]
  },
  {
   "cell_type": "markdown",
   "metadata": {},
   "source": [
    "On va maintenant tenter d'utiliser notre modèle pour prédire un chiffre à partir d'une image qu'il ne connait pas. \n",
    "\n",
    "On teste avec une image sauvegardée (`image.jpg`) dont on change la taille au format voulu et ré-enregistre."
   ]
  },
  {
   "cell_type": "code",
   "execution_count": 61,
   "metadata": {},
   "outputs": [
    {
     "name": "stdout",
     "output_type": "stream",
     "text": [
      "(448, 448)\n",
      "(28, 28)\n"
     ]
    },
    {
     "name": "stderr",
     "output_type": "stream",
     "text": [
      "/var/folders/_f/cnsrx9951kg309b0wrmskw_00000gn/T/ipykernel_20185/1292313156.py:6: DeprecationWarning: ANTIALIAS is deprecated and will be removed in Pillow 10 (2023-07-01). Use Resampling.LANCZOS instead.\n",
      "  image.thumbnail(size,Image.ANTIALIAS)\n"
     ]
    }
   ],
   "source": [
    "image = Image.open(\"image.jpg\")\n",
    "size = 28, 28\n",
    "\n",
    "print(image.size)\n",
    "image.thumbnail(size,Image.ANTIALIAS)\n",
    "print(image.size)\n",
    "image.save(\"image_28px.jpg\")"
   ]
  },
  {
   "cell_type": "markdown",
   "metadata": {},
   "source": [
    "On visualise comme avant la nouvelle image."
   ]
  },
  {
   "cell_type": "code",
   "execution_count": 62,
   "metadata": {},
   "outputs": [
    {
     "name": "stdout",
     "output_type": "stream",
     "text": [
      "  4   0   7   0   0   0  15   0   4   0   0  14   1   0   3   0   0   0   0   0   0   0   0   0   0   0   0   0\n",
      "  0  10   4   4   9   8   0   0   4   6   0   0   0   7   8   4   0   0   0   0   0   0   0   0   0   0   0   0\n",
      "  0   2   0   0   0  14   0   3   0   0   7  10  11   0   0   3   0   0   0   0   0   0   0   0   0   0   0   0\n",
      "  7   4   4  12   0   0   4  10   6   7   0   0   0   0  16   0   0   0   0   0   0   0   0   0   0   0   0   0\n",
      "  0   0   0   0  35  79 136 175 190 216 190 197 196 214 192  22   0   0   0   0   0   0   0   0   0   0   0   0\n",
      "  0  20   0   0 153 249 255 253 254 255 250 255 255 254 224  61   0   0   0   0   0   0   0   0   0   0   0   0\n",
      "  0   7   0   1 120 248 205  50  28  13   5  21  24  14   9   0   0   0   0   0   0   0   0   0   0   0   0   0\n",
      "  3   0   9   0   8 215 244  37   0  34 112 154 176 119   8   1   0   0   0   0   0   0   0   0   0   0   0   0\n",
      "  0   0   5   0   0 136 247 136 117 243 252 253 255 255 155   5   0   0   0   0   0   0   0   0   0   0   0   0\n",
      " 16   0   0   5   0  61 252 250 254 243 150  59  41 203 255  87   0   0   0   0   0   0   0   0   0   0   0   0\n",
      "  0   0   0  10   0  17 226 255 168  36   0  17   0  77 246 154   0   0   0   0   0   0   0   0   0   0   0   0\n",
      " 11   1   0   0   0   4  95  97   0   3  11   9   0  62 255 183   0   0   0   0   0   0   0   0   0   0   0   0\n",
      "  3   0   0  12   0   0   0   7   0   2   1   3   7  59 236 165   0   0   0   0   0   0   0   0   0   0   0   0\n",
      "  0   0  10   6   1  78  27   2   0   0  13   1   0  66 255 176   0   0   0   0   0   0   0   0   0   0   0   0\n",
      "  0   0   0   7  94 255 241 175 141  51  11  19  57 159 255 107   0   0   0   0   0   0   0   0   0   0   0   0\n",
      "  0   3   5   0  33 149 237 254 253 248 255 251 249 255 215  18   0   0   0   0   0   0   0   0   0   0   0   0\n",
      "  0   1   4   3   0   0  20  43 131 166 209 224 193 121  41   0   0   0   0   0   0   0   0   0   0   0   0   0\n",
      "  0   0   0   0   0   0   4  15   3   3   1   0   0   0   0   2   0   0   0   0   0   0   0   0   0   0   0   0\n",
      "  3   0   0   0   2   0   0   0   0   0   0   0   0   1   4   6   0   0   0   0   0   0   0   0   0   0   0   0\n",
      "  1   0   0   3   6   5   1   0   0   1   5   7   6   2   0   0   0   0   0   0   0   0   0   0   0   0   0   0\n",
      "  0   0   0   0   0   0   0   0   4   0   0   0   0   0   4   7   0   0   0   0   0   0   0   0   0   0   0   0\n",
      "  0   2   3   0   0   0   0   0   1   1   3   4   4   1   0   0   0   0   0   0   0   0   0   0   0   0   0   0\n",
      "  1   5   5   0   0   1   2   0   0   0   0   0   0   4   4   3   0   0   0   0   0   0   0   0   0   0   0   0\n",
      "  0   1   1   0   0   4   3   0   6   3   0   0   1   2   0   0   0   0   0   0   0   0   0   0   0   0   0   0\n",
      "  0   0   0   0   0   0   0   0   0   0   0   0   0   0   0   0   0   0   0   0   0   0   0   0   0   0   0   0\n",
      "  0   0   0   0   0   0   0   0   0   0   0   0   0   0   0   0   0   0   0   0   0   0   0   0   0   0   0   0\n",
      "  0   0   0   0   0   0   0   0   0   0   0   0   0   0   0   0   0   0   0   0   0   0   0   0   0   0   0   0\n",
      "  0   0   0   0   0   0   0   0   0   0   0   0   0   0   0   0   0   0   0   0   0   0   0   0   0   0   0   0\n"
     ]
    }
   ],
   "source": [
    "# Source: https://stackoverflow.com/questions/40727793/how-to-convert-a-grayscale-image-into-a-list-of-pixel-values \n",
    "\n",
    "img = Image.open('image_28px.jpg').convert('L')  # convert image to 8-bit grayscale\n",
    "\n",
    "data = list(img.getdata()) # convert image data to a list of integers\n",
    "# convert that to 2D list (list of lists of integers)\n",
    "data = [data[offset:offset+28] for offset in range(0, 28*28, 28)]\n",
    "\n",
    "for row in data:\n",
    "    print(' '.join('{:3}'.format(value) for value in row))"
   ]
  },
  {
   "cell_type": "markdown",
   "metadata": {},
   "source": [
    "On va maintenant pouvoir mettre cette image dans le même format que les images du dataset d'entraînement, en reprenant le code de <a href='https://medium.com/@o.kroeger/tensorflow-mnist-and-your-own-handwritten-digits-4d1cd32bbab4'> cet article</a>. \n",
    "\n",
    "Il n'est pas nécessaire de comprendre précisément tout le code mais seulement les grandes étapes de ce qu'il permet d'obtenir."
   ]
  },
  {
   "cell_type": "code",
   "execution_count": 69,
   "metadata": {},
   "outputs": [
    {
     "data": {
      "text/plain": [
       "array([[  4,   0,   7,   0,   0,   0,  15,   0,   4,   0,   0,  14,   1,\n",
       "          0,   3,   0,   0,   0,   0,   0,   0,   0,   0,   0,   0,   0,\n",
       "          0,   0],\n",
       "       [  0,  10,   4,   4,   9,   8,   0,   0,   4,   6,   0,   0,   0,\n",
       "          7,   8,   4,   0,   0,   0,   0,   0,   0,   0,   0,   0,   0,\n",
       "          0,   0],\n",
       "       [  0,   2,   0,   0,   0,  14,   0,   3,   0,   0,   7,  10,  11,\n",
       "          0,   0,   3,   0,   0,   0,   0,   0,   0,   0,   0,   0,   0,\n",
       "          0,   0],\n",
       "       [  7,   4,   4,  12,   0,   0,   4,  10,   6,   7,   0,   0,   0,\n",
       "          0,  16,   0,   0,   0,   0,   0,   0,   0,   0,   0,   0,   0,\n",
       "          0,   0],\n",
       "       [  0,   0,   0,   0,  35,  79, 136, 175, 190, 216, 190, 197, 196,\n",
       "        214, 192,  22,   0,   0,   0,   0,   0,   0,   0,   0,   0,   0,\n",
       "          0,   0],\n",
       "       [  0,  20,   0,   0, 153, 249, 255, 253, 254, 255, 250, 255, 255,\n",
       "        254, 224,  61,   0,   0,   0,   0,   0,   0,   0,   0,   0,   0,\n",
       "          0,   0],\n",
       "       [  0,   7,   0,   1, 120, 248, 205,  50,  28,  13,   5,  21,  24,\n",
       "         14,   9,   0,   0,   0,   0,   0,   0,   0,   0,   0,   0,   0,\n",
       "          0,   0],\n",
       "       [  3,   0,   9,   0,   8, 215, 244,  37,   0,  34, 112, 154, 176,\n",
       "        119,   8,   1,   0,   0,   0,   0,   0,   0,   0,   0,   0,   0,\n",
       "          0,   0],\n",
       "       [  0,   0,   5,   0,   0, 136, 247, 136, 117, 243, 252, 253, 255,\n",
       "        255, 155,   5,   0,   0,   0,   0,   0,   0,   0,   0,   0,   0,\n",
       "          0,   0],\n",
       "       [ 16,   0,   0,   5,   0,  61, 252, 250, 254, 243, 150,  59,  41,\n",
       "        203, 255,  87,   0,   0,   0,   0,   0,   0,   0,   0,   0,   0,\n",
       "          0,   0],\n",
       "       [  0,   0,   0,  10,   0,  17, 226, 255, 168,  36,   0,  17,   0,\n",
       "         77, 246, 154,   0,   0,   0,   0,   0,   0,   0,   0,   0,   0,\n",
       "          0,   0],\n",
       "       [ 11,   1,   0,   0,   0,   4,  95,  97,   0,   3,  11,   9,   0,\n",
       "         62, 255, 183,   0,   0,   0,   0,   0,   0,   0,   0,   0,   0,\n",
       "          0,   0],\n",
       "       [  3,   0,   0,  12,   0,   0,   0,   7,   0,   2,   1,   3,   7,\n",
       "         59, 236, 165,   0,   0,   0,   0,   0,   0,   0,   0,   0,   0,\n",
       "          0,   0],\n",
       "       [  0,   0,  10,   6,   1,  78,  27,   2,   0,   0,  13,   1,   0,\n",
       "         66, 255, 176,   0,   0,   0,   0,   0,   0,   0,   0,   0,   0,\n",
       "          0,   0],\n",
       "       [  0,   0,   0,   7,  94, 255, 241, 175, 141,  51,  11,  19,  57,\n",
       "        159, 255, 107,   0,   0,   0,   0,   0,   0,   0,   0,   0,   0,\n",
       "          0,   0],\n",
       "       [  0,   3,   5,   0,  33, 149, 237, 254, 253, 248, 255, 251, 249,\n",
       "        255, 215,  18,   0,   0,   0,   0,   0,   0,   0,   0,   0,   0,\n",
       "          0,   0],\n",
       "       [  0,   1,   4,   3,   0,   0,  20,  43, 131, 166, 209, 224, 193,\n",
       "        121,  41,   0,   0,   0,   0,   0,   0,   0,   0,   0,   0,   0,\n",
       "          0,   0],\n",
       "       [  0,   0,   0,   0,   0,   0,   4,  15,   3,   3,   1,   0,   0,\n",
       "          0,   0,   2,   0,   0,   0,   0,   0,   0,   0,   0,   0,   0,\n",
       "          0,   0],\n",
       "       [  3,   0,   0,   0,   2,   0,   0,   0,   0,   0,   0,   0,   0,\n",
       "          1,   4,   6,   0,   0,   0,   0,   0,   0,   0,   0,   0,   0,\n",
       "          0,   0],\n",
       "       [  1,   0,   0,   3,   6,   5,   1,   0,   0,   1,   5,   7,   6,\n",
       "          2,   0,   0,   0,   0,   0,   0,   0,   0,   0,   0,   0,   0,\n",
       "          0,   0],\n",
       "       [  0,   0,   0,   0,   0,   0,   0,   0,   4,   0,   0,   0,   0,\n",
       "          0,   4,   7,   0,   0,   0,   0,   0,   0,   0,   0,   0,   0,\n",
       "          0,   0],\n",
       "       [  0,   2,   3,   0,   0,   0,   0,   0,   1,   1,   3,   4,   4,\n",
       "          1,   0,   0,   0,   0,   0,   0,   0,   0,   0,   0,   0,   0,\n",
       "          0,   0],\n",
       "       [  1,   5,   5,   0,   0,   1,   2,   0,   0,   0,   0,   0,   0,\n",
       "          4,   4,   3,   0,   0,   0,   0,   0,   0,   0,   0,   0,   0,\n",
       "          0,   0],\n",
       "       [  0,   1,   1,   0,   0,   4,   3,   0,   6,   3,   0,   0,   1,\n",
       "          2,   0,   0,   0,   0,   0,   0,   0,   0,   0,   0,   0,   0,\n",
       "          0,   0],\n",
       "       [  0,   0,   0,   0,   0,   0,   0,   0,   0,   0,   0,   0,   0,\n",
       "          0,   0,   0,   0,   0,   0,   0,   0,   0,   0,   0,   0,   0,\n",
       "          0,   0],\n",
       "       [  0,   0,   0,   0,   0,   0,   0,   0,   0,   0,   0,   0,   0,\n",
       "          0,   0,   0,   0,   0,   0,   0,   0,   0,   0,   0,   0,   0,\n",
       "          0,   0],\n",
       "       [  0,   0,   0,   0,   0,   0,   0,   0,   0,   0,   0,   0,   0,\n",
       "          0,   0,   0,   0,   0,   0,   0,   0,   0,   0,   0,   0,   0,\n",
       "          0,   0],\n",
       "       [  0,   0,   0,   0,   0,   0,   0,   0,   0,   0,   0,   0,   0,\n",
       "          0,   0,   0,   0,   0,   0,   0,   0,   0,   0,   0,   0,   0,\n",
       "          0,   0]])"
      ]
     },
     "execution_count": 69,
     "metadata": {},
     "output_type": "execute_result"
    }
   ],
   "source": [
    "gray = np.array(data)\n",
    "gray"
   ]
  },
  {
   "cell_type": "code",
   "execution_count": 70,
   "metadata": {},
   "outputs": [
    {
     "name": "stdout",
     "output_type": "stream",
     "text": [
      "  0   0   0   0   0   0   0   0   0   0   0   0   0   0   0   0   0   0   0   0   0   0   0   0   0   0   0   0\n",
      "  0   0   0   0   0   0   0   0   0   0   0   0   0   0   0   0   0   0   0   0   0   0   0   0   0   0   0   0\n",
      "  0   0   0   0   0   0   0   0   0   0   0   0   0   0   0   0   0   0   0   0   0   0   0   0   0   0   0   0\n",
      "  0   0   0   0   0   0   0   0   0   0   0   0   0   0   0   0   0   0   0   0   0   0   0   0   0   0   0   0\n",
      "  0   0   0   0   0  79 136 175 190 216 190 197 196 214 192   0   0   0   0   0   0   0   0   0   0   0   0   0\n",
      "  0   0   0   0 153 249 255 253 254 255 250 255 255 254 224  61   0   0   0   0   0   0   0   0   0   0   0   0\n",
      "  0   0   0   0 120 248 205   0   0   0   0   0   0   0   0   0   0   0   0   0   0   0   0   0   0   0   0   0\n",
      "  0   0   0   0   0 215 244   0   0   0 112 154 176 119   0   0   0   0   0   0   0   0   0   0   0   0   0   0\n",
      "  0   0   0   0   0 136 247 136 117 243 252 253 255 255 155   0   0   0   0   0   0   0   0   0   0   0   0   0\n",
      "  0   0   0   0   0  61 252 250 254 243 150  59   0 203 255  87   0   0   0   0   0   0   0   0   0   0   0   0\n",
      "  0   0   0   0   0   0 226 255 168   0   0   0   0  77 246 154   0   0   0   0   0   0   0   0   0   0   0   0\n",
      "  0   0   0   0   0   0  95  97   0   0   0   0   0  62 255 183   0   0   0   0   0   0   0   0   0   0   0   0\n",
      "  0   0   0   0   0   0   0   0   0   0   0   0   0  59 236 165   0   0   0   0   0   0   0   0   0   0   0   0\n",
      "  0   0   0   0   0  78   0   0   0   0   0   0   0  66 255 176   0   0   0   0   0   0   0   0   0   0   0   0\n",
      "  0   0   0   0  94 255 241 175 141  51   0   0  57 159 255 107   0   0   0   0   0   0   0   0   0   0   0   0\n",
      "  0   0   0   0   0 149 237 254 253 248 255 251 249 255 215   0   0   0   0   0   0   0   0   0   0   0   0   0\n",
      "  0   0   0   0   0   0   0   0 131 166 209 224 193 121   0   0   0   0   0   0   0   0   0   0   0   0   0   0\n",
      "  0   0   0   0   0   0   0   0   0   0   0   0   0   0   0   0   0   0   0   0   0   0   0   0   0   0   0   0\n",
      "  0   0   0   0   0   0   0   0   0   0   0   0   0   0   0   0   0   0   0   0   0   0   0   0   0   0   0   0\n",
      "  0   0   0   0   0   0   0   0   0   0   0   0   0   0   0   0   0   0   0   0   0   0   0   0   0   0   0   0\n",
      "  0   0   0   0   0   0   0   0   0   0   0   0   0   0   0   0   0   0   0   0   0   0   0   0   0   0   0   0\n",
      "  0   0   0   0   0   0   0   0   0   0   0   0   0   0   0   0   0   0   0   0   0   0   0   0   0   0   0   0\n",
      "  0   0   0   0   0   0   0   0   0   0   0   0   0   0   0   0   0   0   0   0   0   0   0   0   0   0   0   0\n",
      "  0   0   0   0   0   0   0   0   0   0   0   0   0   0   0   0   0   0   0   0   0   0   0   0   0   0   0   0\n",
      "  0   0   0   0   0   0   0   0   0   0   0   0   0   0   0   0   0   0   0   0   0   0   0   0   0   0   0   0\n",
      "  0   0   0   0   0   0   0   0   0   0   0   0   0   0   0   0   0   0   0   0   0   0   0   0   0   0   0   0\n",
      "  0   0   0   0   0   0   0   0   0   0   0   0   0   0   0   0   0   0   0   0   0   0   0   0   0   0   0   0\n",
      "  0   0   0   0   0   0   0   0   0   0   0   0   0   0   0   0   0   0   0   0   0   0   0   0   0   0   0   0\n"
     ]
    }
   ],
   "source": [
    "# On remplace les valeurs basses par des 0\n",
    "gray = np.where(gray > 50, gray, 0)\n",
    "\n",
    "for row in gray:\n",
    "    print(' '.join('{:3}'.format(value) for value in row))"
   ]
  },
  {
   "cell_type": "code",
   "execution_count": 71,
   "metadata": {},
   "outputs": [],
   "source": [
    "# remove every row and column at the sides of the image which are completely black.\n",
    "\n",
    "while np.sum(gray[0]) == 0:\n",
    "    gray = gray[1:]\n",
    "\n",
    "while np.sum(gray[:,0]) == 0:\n",
    "    gray = np.delete(gray,0,1)\n",
    "\n",
    "while np.sum(gray[-1]) == 0:\n",
    "    gray = gray[:-1]\n",
    "\n",
    "while np.sum(gray[:,-1]) == 0:\n",
    "    gray = np.delete(gray,-1,1)\n",
    "\n",
    "rows,cols = gray.shape"
   ]
  },
  {
   "cell_type": "code",
   "execution_count": 72,
   "metadata": {},
   "outputs": [],
   "source": [
    "gray = gray.astype('float32')"
   ]
  },
  {
   "cell_type": "code",
   "execution_count": 73,
   "metadata": {},
   "outputs": [
    {
     "data": {
      "text/plain": [
       "(13, 12)"
      ]
     },
     "execution_count": 73,
     "metadata": {},
     "output_type": "execute_result"
    }
   ],
   "source": [
    "gray.shape"
   ]
  },
  {
   "cell_type": "code",
   "execution_count": 74,
   "metadata": {},
   "outputs": [],
   "source": [
    "#!pip install opencv-python\n",
    "import cv2"
   ]
  },
  {
   "cell_type": "code",
   "execution_count": 75,
   "metadata": {},
   "outputs": [],
   "source": [
    "# Now we want to resize our outer box to fit it into a 20x20 box. We need a resize factor for this.\n",
    "\n",
    "if rows > cols:\n",
    "    factor = 20.0/rows\n",
    "    rows = 20\n",
    "    cols = int(round(cols*factor))\n",
    "    gray = cv2.resize(gray, (cols,rows))\n",
    "else:\n",
    "    factor = 20.0/cols\n",
    "    cols = 20\n",
    "    rows = int(round(rows*factor))\n",
    "    gray = cv2.resize(gray, (cols,rows))"
   ]
  },
  {
   "cell_type": "code",
   "execution_count": 76,
   "metadata": {},
   "outputs": [],
   "source": [
    "# As we need a 28x28 pixel image, we add the missing black rows and columns using the np.lib.pad function which adds 0s to the sides.\n",
    "import math\n",
    "\n",
    "colsPadding = (int(math.ceil((28-cols)/2.0)),int(math.floor((28-cols)/2.0)))\n",
    "rowsPadding = (int(math.ceil((28-rows)/2.0)),int(math.floor((28-rows)/2.0)))\n",
    "gray = np.lib.pad(gray,(rowsPadding,colsPadding),'constant')"
   ]
  },
  {
   "cell_type": "code",
   "execution_count": 77,
   "metadata": {},
   "outputs": [],
   "source": [
    "# Using the center of mass (function 1), we shift the image so that it is centered (function 2)\n",
    "\n",
    "from scipy import ndimage\n",
    "\n",
    "def getBestShift(img):\n",
    "    cy,cx = ndimage.measurements.center_of_mass(img)\n",
    "\n",
    "    rows,cols = img.shape\n",
    "    shiftx = np.round(cols/2.0-cx).astype(int)\n",
    "    shifty = np.round(rows/2.0-cy).astype(int)\n",
    "\n",
    "    return shiftx,shifty\n",
    "\n",
    "def shift(img,sx,sy):\n",
    "    rows,cols = img.shape\n",
    "    M = np.float32([[1,0,sx],[0,1,sy]])\n",
    "    shifted = cv2.warpAffine(img,M,(cols,rows))\n",
    "    return shifted"
   ]
  },
  {
   "cell_type": "code",
   "execution_count": 78,
   "metadata": {},
   "outputs": [
    {
     "name": "stderr",
     "output_type": "stream",
     "text": [
      "/var/folders/_f/cnsrx9951kg309b0wrmskw_00000gn/T/ipykernel_20185/3438808081.py:4: DeprecationWarning: Please use `center_of_mass` from the `scipy.ndimage` namespace, the `scipy.ndimage.measurements` namespace is deprecated.\n",
      "  cy,cx = ndimage.measurements.center_of_mass(img)\n"
     ]
    }
   ],
   "source": [
    "# Applying the functions\n",
    "\n",
    "shiftx,shifty = getBestShift(gray)\n",
    "shifted = shift(gray,shiftx,shifty)\n",
    "gray = shifted"
   ]
  },
  {
   "cell_type": "code",
   "execution_count": 79,
   "metadata": {},
   "outputs": [
    {
     "data": {
      "text/plain": [
       "array([[  0.       ,   0.       ,   0.       ,   0.       ,   0.       ,\n",
       "          0.       ,   0.       ,   0.       ,   0.       ,   0.       ,\n",
       "          0.       ,   0.       ,   0.       ,   0.       ,   0.       ,\n",
       "          0.       ,   0.       ,   0.       ,   0.       ,   0.       ,\n",
       "          0.       ,   0.       ,   0.       ,   0.       ,   0.       ,\n",
       "          0.       ,   0.       ,   0.       ],\n",
       "       [  0.       ,   0.       ,   0.       ,   0.       ,   0.       ,\n",
       "          0.       ,   0.       ,   0.       ,   0.       ,   0.       ,\n",
       "          0.       ,   0.       ,   0.       ,   0.       ,   0.       ,\n",
       "          0.       ,   0.       ,   0.       ,   0.       ,   0.       ,\n",
       "          0.       ,   0.       ,   0.       ,   0.       ,   0.       ,\n",
       "          0.       ,   0.       ,   0.       ],\n",
       "       [  0.       ,   0.       ,   0.       ,   0.       ,   0.       ,\n",
       "          0.       ,   0.       ,   0.       ,   0.       ,   0.       ,\n",
       "          0.       ,   0.       ,   0.       ,   0.       ,   0.       ,\n",
       "          0.       ,   0.       ,   0.       ,   0.       ,   0.       ,\n",
       "          0.       ,   0.       ,   0.       ,   0.       ,   0.       ,\n",
       "          0.       ,   0.       ,   0.       ],\n",
       "       [  0.       ,   0.       ,   0.       ,   0.       ,   0.       ,\n",
       "          0.       ,   0.       ,   0.       ,   0.       ,   0.       ,\n",
       "          0.       ,   0.       ,   0.       ,   0.       ,   0.       ,\n",
       "          0.       ,   0.       ,   0.       ,   0.       ,   0.       ,\n",
       "          0.       ,   0.       ,   0.       ,   0.       ,   0.       ,\n",
       "          0.       ,   0.       ,   0.       ],\n",
       "       [  0.       ,   0.       ,   0.       ,   0.       ,   0.       ,\n",
       "          0.       ,   0.       ,   0.       ,   0.       ,   0.       ,\n",
       "          0.       ,   0.       ,   0.       ,   0.       ,   0.       ,\n",
       "          0.       ,   0.       ,   0.       ,   0.       ,   0.       ,\n",
       "          0.       ,   0.       ,   0.       ,   0.       ,   0.       ,\n",
       "          0.       ,   0.       ,   0.       ],\n",
       "       [  0.       ,   0.       ,   0.       ,   0.       ,   0.       ,\n",
       "          0.       ,  39.5      ,  88.5      , 126.5      , 155.5      ,\n",
       "        177.5      , 187.5      , 203.       , 211.66667  , 194.33333  ,\n",
       "        193.5      , 196.83334  , 196.16666  , 205.       , 210.33333  ,\n",
       "        195.66667  ,  96.       ,   0.       ,   0.       ,   0.       ,\n",
       "          0.       ,   0.       ,   0.       ],\n",
       "       [  0.       ,   0.       ,   0.       ,   0.       ,   0.       ,\n",
       "         72.674995 , 116.212494 , 165.2125   , 187.0625   , 202.28749  ,\n",
       "        213.44167  , 219.00833  , 227.4625   , 231.85416  , 221.17082  ,\n",
       "        221.525    , 224.4625   , 224.11249  , 228.5125   , 228.69998  ,\n",
       "        211.5      , 118.087494 ,  28.975    ,   0.       ,   0.       ,\n",
       "          0.       ,   0.       ,   0.       ],\n",
       "       [  0.       ,   0.       ,   0.       ,   0.       ,   0.       ,\n",
       "        148.875    , 198.875    , 248.85417  , 248.77083  , 235.0625   ,\n",
       "        221.52084  , 222.10416  , 222.6875   , 222.39584  , 219.47916  ,\n",
       "        220.9375   , 223.125    , 223.125    , 222.6875   , 217.87498  ,\n",
       "        200.375    , 124.6875   ,  53.375    ,   0.       ,   0.       ,\n",
       "          0.       ,   0.       ,   0.       ],\n",
       "       [  0.       ,   0.       ,   0.       ,   0.       ,   0.       ,\n",
       "        127.425    , 187.825    , 242.89583  , 221.57918  , 136.58751  ,\n",
       "         56.962505 ,  57.112503 ,  57.262505 ,  57.187508 ,  56.437504 ,\n",
       "         56.812508 ,  57.375008 ,  57.375008 ,  57.262505 ,  56.025    ,\n",
       "         51.525005 ,  32.062504 ,  13.725001 ,   0.       ,   0.       ,\n",
       "          0.       ,   0.       ,   0.       ],\n",
       "       [  0.       ,   0.       ,   0.       ,   0.       ,   0.       ,\n",
       "         69.00001  , 151.4875   , 231.90833  , 223.64166  , 110.7875   ,\n",
       "          0.       ,   0.       ,   0.       ,   7.933325 ,  39.666668 ,\n",
       "         56.524994 ,  67.00832  ,  73.24165  ,  62.687492 ,  42.145813 ,\n",
       "          8.429181 ,   0.       ,   0.       ,   0.       ,   0.       ,\n",
       "          0.       ,   0.       ,   0.       ],\n",
       "       [  0.       ,   0.       ,   0.       ,   0.       ,   0.       ,\n",
       "          0.       , 104.5375   , 214.93332  , 238.36667  , 127.2125   ,\n",
       "          9.962506 ,   9.0125065,  13.500009 ,  35.60416  , 105.12086  ,\n",
       "        141.96251  , 164.84166  , 178.50833  , 155.5625   , 109.60413  ,\n",
       "         31.220877 ,   5.812504 ,   0.       ,   0.       ,   0.       ,\n",
       "          0.       ,   0.       ,   0.       ],\n",
       "       [  0.       ,   0.       ,   0.       ,   0.       ,   0.       ,\n",
       "          0.       ,  78.8625   , 172.46667  , 231.43333  , 172.3875   ,\n",
       "         96.30415  ,  87.12083  , 130.49998  , 182.39581  , 207.27916  ,\n",
       "        219.63748  , 227.025    , 232.025    , 225.43748  , 200.06245  ,\n",
       "        129.9125   ,  56.187492 ,   0.       ,   0.       ,   0.       ,\n",
       "          0.       ,   0.       ,   0.       ],\n",
       "       [  0.       ,   0.       ,   0.       ,   0.       ,   0.       ,\n",
       "          0.       ,  53.9375   , 131.375    , 225.375    , 213.8125   ,\n",
       "        177.02083  , 170.10417  , 205.6875   , 238.12502  , 218.625    ,\n",
       "        197.       , 176.77083  , 162.85417  , 197.4375   , 228.33331  ,\n",
       "        199.66667  , 112.5625   ,  32.625    ,   0.       ,   0.       ,\n",
       "          0.       ,   0.       ,   0.       ],\n",
       "       [  0.       ,   0.       ,   0.       ,   0.       ,   0.       ,\n",
       "          0.       ,  29.737497 ,  91.454155 , 219.37085  , 250.7375   ,\n",
       "        250.4125   , 251.56248  , 244.38748  , 221.81252  , 161.36247  ,\n",
       "        101.88749  ,  47.937504 ,   9.58749  ,  99.924995 , 209.00417  ,\n",
       "        245.6208   , 171.725    ,  88.675    ,   0.       ,   0.       ,\n",
       "          0.       ,   0.       ,   0.       ],\n",
       "       [  0.       ,   0.       ,   0.       ,   0.       ,   0.       ,\n",
       "          0.       ,   9.912495 ,  55.595814 , 198.67918  , 243.91249  ,\n",
       "        243.80415  , 205.52083  , 137.46246  ,  73.93747  ,  53.787464 ,\n",
       "         33.96248  ,  15.97916  ,   3.1958287,  58.974987 , 139.77919  ,\n",
       "        227.09578  , 190.575    , 132.225    ,   0.       ,   0.       ,\n",
       "          0.       ,   0.       ,   0.       ],\n",
       "       [  0.       ,   0.       ,   0.       ,   0.       ,   0.       ,\n",
       "          0.       ,   0.       ,  30.57083  , 152.8542   , 193.53752  ,\n",
       "        188.60837  , 128.4417   ,  56.700016 ,   0.       ,   0.       ,\n",
       "          0.       ,   0.       ,   0.       ,  36.0625   , 101.59172  ,\n",
       "        219.45828  , 206.17499  , 163.42499  ,   0.       ,   0.       ,\n",
       "          0.       ,   0.       ,   0.       ],\n",
       "       [  0.       ,   0.       ,   0.       ,   0.       ,   0.       ,\n",
       "          0.       ,   0.       ,  16.379164 ,  81.89585  ,  99.61251  ,\n",
       "         84.825005 ,  20.325024 ,   2.100008 ,   0.       ,   0.       ,\n",
       "          0.       ,   0.       ,   0.       ,  31.1875   ,  94.441734 ,\n",
       "        222.70828  , 218.525    , 182.27501  ,   0.       ,   0.       ,\n",
       "          0.       ,   0.       ,   0.       ],\n",
       "       [  0.       ,   0.       ,   0.       ,   0.       ,   0.       ,\n",
       "          0.       ,   0.       ,   5.9374986,  29.687502 ,  36.       ,\n",
       "         30.312498 ,   6.062503 ,   0.       ,   0.       ,   0.       ,\n",
       "          0.       ,   0.       ,   0.       ,  30.0625   ,  90.62506  ,\n",
       "        212.62495  , 207.4375   , 171.75     ,   0.       ,   0.       ,\n",
       "          0.       ,   0.       ,   0.       ],\n",
       "       [  0.       ,   0.       ,   0.       ,   0.       ,   0.       ,\n",
       "          0.       ,  10.724985 ,  17.874975 ,   3.5749943,   0.       ,\n",
       "          0.       ,   0.       ,   0.       ,   0.       ,   0.       ,\n",
       "          0.       ,   0.       ,   0.       ,  30.462498 ,  90.97506  ,\n",
       "        211.17494  , 204.625    , 168.025    ,   0.       ,   0.       ,\n",
       "          0.       ,   0.       ,   0.       ],\n",
       "       [  0.       ,   0.       ,   0.       ,   0.       ,   0.       ,\n",
       "          0.       ,  36.07501  ,  60.12501  ,  12.025    ,   0.       ,\n",
       "          0.       ,   0.       ,   0.       ,   0.       ,   0.       ,\n",
       "          0.       ,   0.       ,   0.       ,  32.7375   ,  96.825066 ,\n",
       "        222.22495  , 214.375    , 175.175    ,   0.       ,   0.       ,\n",
       "          0.       ,   0.       ,   0.       ],\n",
       "       [  0.       ,   0.       ,   0.       ,   0.       ,   0.       ,\n",
       "         54.04998  , 116.91247  , 172.90831  , 145.4416   , 119.59996  ,\n",
       "         97.36663  ,  84.333305 ,  55.19998  ,  24.437496 ,   4.887494 ,\n",
       "          0.       ,   5.462493 ,  27.312496 ,  76.124985 , 142.06253  ,\n",
       "        232.41246  , 195.6625   , 136.32501  ,   0.       ,   0.       ,\n",
       "          0.       ,   0.       ,   0.       ],\n",
       "       [  0.       ,   0.       ,   0.       ,   0.       ,   0.       ,\n",
       "         72.84996  , 151.99995  , 232.64163  , 238.60832  , 216.43752  ,\n",
       "        188.34586  , 170.62921  , 130.76256  ,  89.000084 ,  63.70009  ,\n",
       "         56.925095 ,  63.76258  ,  92.91258  , 140.40005  , 191.50005  ,\n",
       "        235.09998  , 164.46248  ,  82.92496  ,   0.       ,   0.       ,\n",
       "          0.       ,   0.       ,   0.       ],\n",
       "       [  0.       ,   0.       ,   0.       ,   0.       ,   0.       ,\n",
       "         11.75     ,  87.       , 174.79166  , 224.95834  , 240.8125   ,\n",
       "        243.27083  , 239.85417  , 231.1875   , 223.33333  , 223.16667  ,\n",
       "        221.375    , 220.52083  , 224.10417  , 234.       , 239.16666  ,\n",
       "        223.83334  , 116.6875   ,  13.375    ,   0.       ,   0.       ,\n",
       "          0.       ,   0.       ,   0.       ],\n",
       "       [  0.       ,   0.       ,   0.       ,   0.       ,   0.       ,\n",
       "          0.       ,  35.387527 ,  77.74172  , 105.60842  , 116.612595 ,\n",
       "        132.03343  , 177.56673  , 196.95004  , 209.2667   , 226.53336  ,\n",
       "        233.83751  , 233.95418  , 222.47086  , 202.12503  , 170.89587  ,\n",
       "        115.879265 ,  51.062542 ,   0.       ,   0.       ,   0.       ,\n",
       "          0.       ,   0.       ,   0.       ],\n",
       "       [  0.       ,   0.       ,   0.       ,   0.       ,   0.       ,\n",
       "          0.       ,   0.       ,   0.       ,   0.       ,   0.       ,\n",
       "         21.833344 , 109.16666  , 148.5      , 173.16666  , 201.83334  ,\n",
       "        216.5      , 218.83334  , 198.16666  , 157.       , 100.8333   ,\n",
       "         20.166706 ,   0.       ,   0.       ,   0.       ,   0.       ,\n",
       "          0.       ,   0.       ,   0.       ],\n",
       "       [  0.       ,   0.       ,   0.       ,   0.       ,   0.       ,\n",
       "          0.       ,   0.       ,   0.       ,   0.       ,   0.       ,\n",
       "          0.       ,   0.       ,   0.       ,   0.       ,   0.       ,\n",
       "          0.       ,   0.       ,   0.       ,   0.       ,   0.       ,\n",
       "          0.       ,   0.       ,   0.       ,   0.       ,   0.       ,\n",
       "          0.       ,   0.       ,   0.       ],\n",
       "       [  0.       ,   0.       ,   0.       ,   0.       ,   0.       ,\n",
       "          0.       ,   0.       ,   0.       ,   0.       ,   0.       ,\n",
       "          0.       ,   0.       ,   0.       ,   0.       ,   0.       ,\n",
       "          0.       ,   0.       ,   0.       ,   0.       ,   0.       ,\n",
       "          0.       ,   0.       ,   0.       ,   0.       ,   0.       ,\n",
       "          0.       ,   0.       ,   0.       ],\n",
       "       [  0.       ,   0.       ,   0.       ,   0.       ,   0.       ,\n",
       "          0.       ,   0.       ,   0.       ,   0.       ,   0.       ,\n",
       "          0.       ,   0.       ,   0.       ,   0.       ,   0.       ,\n",
       "          0.       ,   0.       ,   0.       ,   0.       ,   0.       ,\n",
       "          0.       ,   0.       ,   0.       ,   0.       ,   0.       ,\n",
       "          0.       ,   0.       ,   0.       ]], dtype=float32)"
      ]
     },
     "execution_count": 79,
     "metadata": {},
     "output_type": "execute_result"
    }
   ],
   "source": [
    "gray"
   ]
  },
  {
   "cell_type": "code",
   "execution_count": 80,
   "metadata": {},
   "outputs": [
    {
     "data": {
      "text/plain": [
       "(1, 784)"
      ]
     },
     "execution_count": 80,
     "metadata": {},
     "output_type": "execute_result"
    }
   ],
   "source": [
    "# Conversion au format adapté\n",
    "img_flattened = gray.flatten()\n",
    "img_flattened_784 = np.array(img_flattened).reshape(1, -1) \n",
    "img_flattened_784.shape"
   ]
  },
  {
   "cell_type": "code",
   "execution_count": 81,
   "metadata": {},
   "outputs": [
    {
     "name": "stdout",
     "output_type": "stream",
     "text": [
      "  0   0   0   0   0   0   0   0   0   0   0   0   0   0   0   0   0   0   0   0   0   0   0   0   0   0   0   0\n",
      "  0   0   0   0   0   0   0   0   0   0   0   0   0   0   0   0   0   0   0   0   0   0   0   0   0   0   0   0\n",
      "  0   0   0   0   0   0   0   0   0   0   0   0   0   0   0   0   0   0   0   0   0   0   0   0   0   0   0   0\n",
      "  0   0   0   0   0   0   0   0   0   0   0   0   0   0   0   0   0   0   0   0   0   0   0   0   0   0   0   0\n",
      "  0   0   0   0   0   0   0   0   0   0   0   0   0   0   0   0   0   0   0   0   0   0   0   0   0   0   0   0\n",
      "  0   0   0   0   0   0  39  88 126 155 177 187 203 211 194 193 196 196 205 210 195  96   0   0   0   0   0   0\n",
      "  0   0   0   0   0  72 116 165 187 202 213 219 227 231 221 221 224 224 228 228 211 118  28   0   0   0   0   0\n",
      "  0   0   0   0   0 148 198 248 248 235 221 222 222 222 219 220 223 223 222 217 200 124  53   0   0   0   0   0\n",
      "  0   0   0   0   0 127 187 242 221 136  56  57  57  57  56  56  57  57  57  56  51  32  13   0   0   0   0   0\n",
      "  0   0   0   0   0  69 151 231 223 110   0   0   0   7  39  56  67  73  62  42   8   0   0   0   0   0   0   0\n",
      "  0   0   0   0   0   0 104 214 238 127   9   9  13  35 105 141 164 178 155 109  31   5   0   0   0   0   0   0\n",
      "  0   0   0   0   0   0  78 172 231 172  96  87 130 182 207 219 227 232 225 200 129  56   0   0   0   0   0   0\n",
      "  0   0   0   0   0   0  53 131 225 213 177 170 205 238 218 197 176 162 197 228 199 112  32   0   0   0   0   0\n",
      "  0   0   0   0   0   0  29  91 219 250 250 251 244 221 161 101  47   9  99 209 245 171  88   0   0   0   0   0\n",
      "  0   0   0   0   0   0   9  55 198 243 243 205 137  73  53  33  15   3  58 139 227 190 132   0   0   0   0   0\n",
      "  0   0   0   0   0   0   0  30 152 193 188 128  56   0   0   0   0   0  36 101 219 206 163   0   0   0   0   0\n",
      "  0   0   0   0   0   0   0  16  81  99  84  20   2   0   0   0   0   0  31  94 222 218 182   0   0   0   0   0\n",
      "  0   0   0   0   0   0   0   5  29  36  30   6   0   0   0   0   0   0  30  90 212 207 171   0   0   0   0   0\n",
      "  0   0   0   0   0   0  10  17   3   0   0   0   0   0   0   0   0   0  30  90 211 204 168   0   0   0   0   0\n",
      "  0   0   0   0   0   0  36  60  12   0   0   0   0   0   0   0   0   0  32  96 222 214 175   0   0   0   0   0\n",
      "  0   0   0   0   0  54 116 172 145 119  97  84  55  24   4   0   5  27  76 142 232 195 136   0   0   0   0   0\n",
      "  0   0   0   0   0  72 151 232 238 216 188 170 130  89  63  56  63  92 140 191 235 164  82   0   0   0   0   0\n",
      "  0   0   0   0   0  11  87 174 224 240 243 239 231 223 223 221 220 224 234 239 223 116  13   0   0   0   0   0\n",
      "  0   0   0   0   0   0  35  77 105 116 132 177 196 209 226 233 233 222 202 170 115  51   0   0   0   0   0   0\n",
      "  0   0   0   0   0   0   0   0   0   0  21 109 148 173 201 216 218 198 157 100  20   0   0   0   0   0   0   0\n",
      "  0   0   0   0   0   0   0   0   0   0   0   0   0   0   0   0   0   0   0   0   0   0   0   0   0   0   0   0\n",
      "  0   0   0   0   0   0   0   0   0   0   0   0   0   0   0   0   0   0   0   0   0   0   0   0   0   0   0   0\n",
      "  0   0   0   0   0   0   0   0   0   0   0   0   0   0   0   0   0   0   0   0   0   0   0   0   0   0   0   0\n"
     ]
    }
   ],
   "source": [
    "# On affiche l'image en pixel comme avant\n",
    "\n",
    "data = img_flattened_784.reshape(28, 28)\n",
    "data = data.astype('int64')\n",
    "\n",
    "for row in data:\n",
    "    print(' '.join('{:3}'.format(value) for value in row))\n"
   ]
  },
  {
   "cell_type": "markdown",
   "metadata": {},
   "source": [
    "Au vu des valeurs des pixels, notre traitement semble avoir marché, le chiffre est désormais bien centré."
   ]
  },
  {
   "cell_type": "markdown",
   "metadata": {},
   "source": [
    "Vous pouvez maintenant prédire la valeur dans l'image ! Votre modèle trouve-t-il le bon chiffre ?"
   ]
  },
  {
   "cell_type": "code",
   "execution_count": 82,
   "metadata": {},
   "outputs": [
    {
     "name": "stderr",
     "output_type": "stream",
     "text": [
      "/Users/emilie/Desktop/projects/ATELIERS/Atelier Number Recognition/venv/lib/python3.10/site-packages/sklearn/base.py:450: UserWarning: X does not have valid feature names, but PCA was fitted with feature names\n",
      "  warnings.warn(\n"
     ]
    },
    {
     "data": {
      "text/plain": [
       "5"
      ]
     },
     "execution_count": 82,
     "metadata": {},
     "output_type": "execute_result"
    }
   ],
   "source": [
    "result = loaded_model.predict(img_flattened_784)\n",
    "result[0]"
   ]
  },
  {
   "cell_type": "markdown",
   "metadata": {},
   "source": [
    "Avec la méthode <a href= \"https://scikit-learn.org/stable/modules/generated/sklearn.svm.SVC.html#sklearn.svm.SVC.predict_proba\">predict_proba</a>, on peut aussi obtenir la probabilité associée à chaque chiffre (soit les classes prédites). Quel est le degré de certitude de votre prédiction ? Si le modèle a mal prédit le chiffre, la deuxième prédiction est-elle bonne ?"
   ]
  },
  {
   "cell_type": "code",
   "execution_count": 101,
   "metadata": {},
   "outputs": [
    {
     "name": "stderr",
     "output_type": "stream",
     "text": [
      "/Users/emilie/Desktop/projects/ATELIERS/Atelier Number Recognition/venv/lib/python3.10/site-packages/sklearn/base.py:450: UserWarning: X does not have valid feature names, but PCA was fitted with feature names\n",
      "  warnings.warn(\n"
     ]
    },
    {
     "data": {
      "text/plain": [
       "array([[4.61685467e-04, 4.16930888e-04, 1.05496894e-03, 1.88658702e-02,\n",
       "        8.40806933e-05, 9.71376832e-01, 1.13707102e-04, 1.51385575e-04,\n",
       "        6.74976356e-03, 7.24775711e-04]])"
      ]
     },
     "execution_count": 101,
     "metadata": {},
     "output_type": "execute_result"
    }
   ],
   "source": [
    "# Ici le modèle est certain à 96% qu'il s'agisse d'un 5. \n",
    "probabilities = loaded_model.predict_proba(img_flattened_784)\n",
    "probabilities"
   ]
  },
  {
   "cell_type": "code",
   "execution_count": 90,
   "metadata": {},
   "outputs": [
    {
     "name": "stderr",
     "output_type": "stream",
     "text": [
      "/Users/emilie/Desktop/projects/ATELIERS/Atelier Number Recognition/venv/lib/python3.10/site-packages/sklearn/base.py:450: UserWarning: X does not have valid feature names, but PCA was fitted with feature names\n",
      "  warnings.warn(\n"
     ]
    },
    {
     "data": {
      "text/plain": [
       "97.0"
      ]
     },
     "execution_count": 90,
     "metadata": {},
     "output_type": "execute_result"
    }
   ],
   "source": [
    "# Probabilité du 1er chiffre prédit par le modèle\n",
    "probability = loaded_model.predict_proba(img_flattened_784)[:,result]\n",
    "probability = np.round(probability[0,0], 2)*100\n",
    "probability"
   ]
  },
  {
   "cell_type": "code",
   "execution_count": 102,
   "metadata": {},
   "outputs": [
    {
     "data": {
      "text/plain": [
       "array([5, 3, 8, 2, 9, 0, 1, 7, 6, 4])"
      ]
     },
     "execution_count": 102,
     "metadata": {},
     "output_type": "execute_result"
    }
   ],
   "source": [
    "# Ordre des chiffres par probabilité \n",
    "results = (-probabilities[0]).argsort()\n",
    "results"
   ]
  },
  {
   "cell_type": "code",
   "execution_count": 114,
   "metadata": {},
   "outputs": [
    {
     "name": "stdout",
     "output_type": "stream",
     "text": [
      "Le chiffre le plus probable est 5 avec une probabilité de 97.0%.\n"
     ]
    }
   ],
   "source": [
    "result_1 = results[0]\n",
    "probability_1 = probabilities[0][results[0]]\n",
    "print(f\"Le chiffre le plus probable est {result_1} avec une probabilité de {np.round(probability_1, 2)*100}%.\")"
   ]
  },
  {
   "cell_type": "code",
   "execution_count": 115,
   "metadata": {},
   "outputs": [
    {
     "name": "stdout",
     "output_type": "stream",
     "text": [
      "Sinon, il est possible qu'il s'agisse du chiffre 3 avec une probabilité de 2.0%.\n"
     ]
    }
   ],
   "source": [
    "result_2 = results[1]\n",
    "probability_2 = probabilities[0][results[1]]\n",
    "print(f\"Sinon, il est possible qu'il s'agisse du chiffre {result_2} avec une probabilité de {np.round(probability_2, 2)*100}%.\")"
   ]
  },
  {
   "cell_type": "markdown",
   "metadata": {},
   "source": [
    "## Mise en pratique : application à des nouvelles images dessinées en direct"
   ]
  },
  {
   "cell_type": "markdown",
   "metadata": {},
   "source": [
    "### Fonctions\n",
    "\n",
    "Voie rapide : le script Python `classifier.py` contient plusieurs fonctions qui permettent d'appliquer toutes les étapes qu'on vient de mener à de nouvelles données. \n",
    "\n",
    "Voie longue mais plus ambitieuse : vous pouvez aussi faire ce script vous-mêmes, par exemple créer une fonction qui applique à une image fournie en entrée le formattage requis pour réaliser la prédiction et une deuxième fonction qui peut ensuite appliquer le modèle enregistré à l'image formattée. "
   ]
  },
  {
   "cell_type": "markdown",
   "metadata": {},
   "source": [
    "### Application Streamlit\n",
    "\n",
    "Ensuite, exécutez le script app.py avec la commande `streamlit run app.py`. Pour cela vous devrez sûrement installer les librairies `streamlit` et `streamlit_drawable_canvas`. \n",
    "\n",
    "Que fait ce script ?  🤔 "
   ]
  },
  {
   "cell_type": "code",
   "execution_count": null,
   "metadata": {},
   "outputs": [],
   "source": [
    "# Script de lancement d'une app Streamlit contenant un canva (toile)\n",
    "# pour écrire des chiffres à la main"
   ]
  },
  {
   "cell_type": "markdown",
   "metadata": {},
   "source": [
    "En faisant appel aux fonctions que vous avez définies plus tôt, modifiez le script pour pouvoir afficher votre prédiction lorsqu'on dessine un chiffre sur le canvas. \n",
    "\n",
    "Pour aller plus loin, vous pouvez maintenant : \n",
    "*   afficher le pourcentage de certitude ou encore le deuxième résultat lorsque la prédiction est incertaine ou incorrecte\n",
    "*   stocker les nouvelles images dessinées à la main et recréer votre propre base de données\n",
    "*   découvrir comment entrainer un réseau de neurones pour faire la même chose (comme <a href=\"https://data-flair.training/blogs/python-deep-learning-project-handwritten-digit-recognition/\">ici</a> et <a href=\"https://machinelearningmastery.com/how-to-develop-a-cnn-from-scratch-for-cifar-10-photo-classification/\">ici</a> par exemple) et appliquer ce modèle aux images dessinées dans votre app. Mais cela vous demandera beaucoup plus de recherche et d'investissement 😉\n"
   ]
  },
  {
   "cell_type": "markdown",
   "metadata": {},
   "source": [
    "Autres sources\n",
    "*   https://www.kaggle.com/datasets/oddrationale/mnist-in-csv?select=mnist_train.csv \n",
    "*   https://towardsdatascience.com/support-vector-machine-mnist-digit-classification-with-python-including-my-hand-written-digits-83d6eca7004a "
   ]
  }
 ],
 "metadata": {
  "kernelspec": {
   "display_name": "Python 3.10.5 ('venv': venv)",
   "language": "python",
   "name": "python3"
  },
  "language_info": {
   "codemirror_mode": {
    "name": "ipython",
    "version": 3
   },
   "file_extension": ".py",
   "mimetype": "text/x-python",
   "name": "python",
   "nbconvert_exporter": "python",
   "pygments_lexer": "ipython3",
   "version": "3.10.5"
  },
  "orig_nbformat": 4,
  "vscode": {
   "interpreter": {
    "hash": "a1bb97944e78798a7665c5c17e59dde1c3cccf0074e57674c30db64213d319e2"
   }
  }
 },
 "nbformat": 4,
 "nbformat_minor": 2
}
